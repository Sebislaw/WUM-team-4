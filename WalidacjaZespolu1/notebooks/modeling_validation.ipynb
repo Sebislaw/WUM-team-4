{
 "cells": [
  {
   "cell_type": "code",
   "execution_count": 1,
   "metadata": {},
   "outputs": [],
   "source": [
    "import pandas as pd\n",
    "import numpy as np\n",
    "import seaborn as sns\n",
    "import matplotlib.pyplot as plt\n",
    "df = pd.read_csv(\"../data/x_train.csv\")\n",
    "df_val = pd.read_csv(\"../data/x_train.csv\")"
   ]
  },
  {
   "cell_type": "code",
   "execution_count": 2,
   "metadata": {},
   "outputs": [],
   "source": [
    "from importlib import import_module\n",
    "import sklearn"
   ]
  },
  {
   "cell_type": "markdown",
   "metadata": {},
   "source": [
    "# Testing models"
   ]
  },
  {
   "cell_type": "code",
   "execution_count": 3,
   "metadata": {},
   "outputs": [],
   "source": [
    "y_train = df['FINALIZED_LOAN']\n",
    "X_train = df.drop(columns=\"FINALIZED_LOAN\")\n",
    "\n",
    "# Validation data\n",
    "y_val = df_val['FINALIZED_LOAN']\n",
    "X_val = df_val.drop(columns=\"FINALIZED_LOAN\")\n"
   ]
  },
  {
   "cell_type": "code",
   "execution_count": 4,
   "metadata": {},
   "outputs": [
    {
     "data": {
      "text/plain": [
       "{'fit_time': array([2.99905372, 3.09530139, 3.15768623, 2.89740801, 3.26939511,\n",
       "        3.07994175]),\n",
       " 'score_time': array([0.09541726, 0.10302281, 0.09031129, 0.08708096, 0.10857773,\n",
       "        0.10220408]),\n",
       " 'test_score': array([0.62516915, 0.60962567, 0.63433814, 0.61559508, 0.67729084,\n",
       "        0.62087912])}"
      ]
     },
     "execution_count": 4,
     "metadata": {},
     "output_type": "execute_result"
    }
   ],
   "source": [
    "from sklearn.tree import DecisionTreeClassifier\n",
    "from sklearn.model_selection import cross_validate\n",
    "from sklearn.metrics import f1_score\n",
    "from sklearn.ensemble import RandomForestClassifier\n",
    "\n",
    "model = RandomForestClassifier()\n",
    "scores = cross_validate(model, X_train, y_train, cv= 6, n_jobs=1, scoring=\"f1\")\n",
    "scores"
   ]
  },
  {
   "cell_type": "code",
   "execution_count": 5,
   "metadata": {},
   "outputs": [
    {
     "name": "stdout",
     "output_type": "stream",
     "text": [
      "Fold 1 of 5\n",
      "Accuracy Score: 0.859271523178808\n",
      "Fold 2 of 5\n",
      "Accuracy Score: 0.8367549668874172\n",
      "Fold 3 of 5\n",
      "Accuracy Score: 0.8595561444186817\n",
      "Fold 4 of 5\n",
      "Accuracy Score: 0.8598873799271282\n",
      "Fold 5 of 5\n",
      "Accuracy Score: 0.8575687313680026\n"
     ]
    }
   ],
   "source": [
    "from sklearn.model_selection import StratifiedKFold\n",
    "from sklearn.metrics import accuracy_score\n",
    "# Initialize stratified k-fold\n",
    "kf = StratifiedKFold(n_splits=5, random_state=1, shuffle=True)\n",
    "\n",
    "# Initialize a variable to keep track of fold number\n",
    "fold = 1\n",
    "\n",
    "# Iterate over each fold\n",
    "for train_index, test_index in kf.split(X_train, y_train):\n",
    "    print('Fold {} of {}'.format(fold, kf.n_splits))\n",
    "    \n",
    "    # Split data into train and validation sets\n",
    "    xtr, xvl = X_train.iloc[train_index], X_train.iloc[test_index]\n",
    "    ytr, yvl = y_train.iloc[train_index], y_train.iloc[test_index]\n",
    "    \n",
    "    # Initialize and train the decision tree classifier\n",
    "    model = DecisionTreeClassifier(random_state=1)\n",
    "    model.fit(xtr, ytr)\n",
    "    \n",
    "    # Make predictions on the validation set\n",
    "    pred_val = model.predict(xvl)\n",
    "    \n",
    "    # Calculate and print accuracy score\n",
    "    score = accuracy_score(yvl, pred_val)\n",
    "    print('Accuracy Score:', score)\n",
    "    \n",
    "    # Increment fold number\n",
    "    fold += 1\n"
   ]
  },
  {
   "cell_type": "code",
   "execution_count": 6,
   "metadata": {},
   "outputs": [
    {
     "name": "stdout",
     "output_type": "stream",
     "text": [
      "Random Forest Validation Accuracy Score: 0.9997350466980195\n"
     ]
    }
   ],
   "source": [
    "from sklearn.ensemble import RandomForestClassifier\n",
    "\n",
    "# Initialize and train the random forest classifier on the entire training set\n",
    "rf_model = RandomForestClassifier(class_weight='balanced', random_state=1)\n",
    "rf_model.fit(X_train, y_train)\n",
    "\n",
    "# Make predictions on the validation set\n",
    "rf_pred_val = rf_model.predict(X_val)\n",
    "\n",
    "# Calculate accuracy score on the validation set\n",
    "rf_val_score = accuracy_score(y_val, rf_pred_val)\n",
    "print('Random Forest Validation Accuracy Score:', rf_val_score)\n"
   ]
  },
  {
   "cell_type": "code",
   "execution_count": 7,
   "metadata": {},
   "outputs": [
    {
     "name": "stdout",
     "output_type": "stream",
     "text": [
      "Validation Accuracy Score: 0.9997350466980195\n"
     ]
    }
   ],
   "source": [
    "# Initialize and train the decision tree classifier on the entire training set\n",
    "model = DecisionTreeClassifier(random_state=1)\n",
    "model.fit(X_train, y_train)\n",
    "\n",
    "# Make predictions on the validation set\n",
    "pred_val = model.predict(X_val)\n",
    "\n",
    "# Calculate accuracy score on the validation set\n",
    "val_score = accuracy_score(y_val, pred_val)\n",
    "print('Validation Accuracy Score:', val_score)\n"
   ]
  },
  {
   "cell_type": "code",
   "execution_count": 8,
   "metadata": {},
   "outputs": [
    {
     "ename": "SyntaxError",
     "evalue": "invalid syntax (3474560347.py, line 9)",
     "output_type": "error",
     "traceback": [
      "\u001b[1;36m  Input \u001b[1;32mIn [8]\u001b[1;36m\u001b[0m\n\u001b[1;33m    val_score = accuracy_score(y_val, pred_val)x\u001b[0m\n\u001b[1;37m                                               ^\u001b[0m\n\u001b[1;31mSyntaxError\u001b[0m\u001b[1;31m:\u001b[0m invalid syntax\n"
     ]
    }
   ],
   "source": [
    "# Initialize and train the decision tree classifier on the entire training set\n",
    "model = DecisionTreeClassifier(random_state=1)\n",
    "model.fit(X_train, y_train)\n",
    "\n",
    "# Make predictions on the validation set\n",
    "pred_val = model.predict(X_val)\n",
    "\n",
    "# Calculate accuracy score on the validation set\n",
    "val_score = accuracy_score(y_val, pred_val)\n",
    "print('Validation Accuracy Score:', val_score)\n"
   ]
  },
  {
   "cell_type": "code",
   "execution_count": 9,
   "metadata": {},
   "outputs": [
    {
     "name": "stdout",
     "output_type": "stream",
     "text": [
      "Logistic Regression Validation Accuracy Score: 0.8527522024243227\n"
     ]
    },
    {
     "name": "stderr",
     "output_type": "stream",
     "text": [
      "C:\\Users\\Sebastian\\anaconda3\\lib\\site-packages\\sklearn\\linear_model\\_logistic.py:814: ConvergenceWarning: lbfgs failed to converge (status=1):\n",
      "STOP: TOTAL NO. of ITERATIONS REACHED LIMIT.\n",
      "\n",
      "Increase the number of iterations (max_iter) or scale the data as shown in:\n",
      "    https://scikit-learn.org/stable/modules/preprocessing.html\n",
      "Please also refer to the documentation for alternative solver options:\n",
      "    https://scikit-learn.org/stable/modules/linear_model.html#logistic-regression\n",
      "  n_iter_i = _check_optimize_result(\n"
     ]
    }
   ],
   "source": [
    "from sklearn.linear_model import LogisticRegression\n",
    "\n",
    "# Initialize and train the logistic regression classifier on the entire training set\n",
    "logistic_model = LogisticRegression(random_state=1)\n",
    "logistic_model.fit(X_train, y_train)\n",
    "\n",
    "# Make predictions on the validation set\n",
    "logistic_pred_val = logistic_model.predict(X_val)\n",
    "\n",
    "# Calculate accuracy score on the validation set\n",
    "logistic_val_score = accuracy_score(y_val, logistic_pred_val)\n",
    "print('Logistic Regression Validation Accuracy Score:', logistic_val_score)\n"
   ]
  },
  {
   "cell_type": "code",
   "execution_count": 10,
   "metadata": {},
   "outputs": [
    {
     "ename": "ModuleNotFoundError",
     "evalue": "No module named 'xgboost'",
     "output_type": "error",
     "traceback": [
      "\u001b[1;31m---------------------------------------------------------------------------\u001b[0m",
      "\u001b[1;31mModuleNotFoundError\u001b[0m                       Traceback (most recent call last)",
      "Input \u001b[1;32mIn [10]\u001b[0m, in \u001b[0;36m<cell line: 1>\u001b[1;34m()\u001b[0m\n\u001b[1;32m----> 1\u001b[0m \u001b[38;5;28;01mimport\u001b[39;00m \u001b[38;5;21;01mxgboost\u001b[39;00m \u001b[38;5;28;01mas\u001b[39;00m \u001b[38;5;21;01mxgb\u001b[39;00m\n\u001b[0;32m      3\u001b[0m \u001b[38;5;66;03m# Convert the DataFrame into DMatrix format (required for XGBoost)\u001b[39;00m\n\u001b[0;32m      4\u001b[0m dtrain \u001b[38;5;241m=\u001b[39m xgb\u001b[38;5;241m.\u001b[39mDMatrix(X_train, label\u001b[38;5;241m=\u001b[39my_train)\n",
      "\u001b[1;31mModuleNotFoundError\u001b[0m: No module named 'xgboost'"
     ]
    }
   ],
   "source": [
    "import xgboost as xgb\n",
    "\n",
    "# Convert the DataFrame into DMatrix format (required for XGBoost)\n",
    "dtrain = xgb.DMatrix(X_train, label=y_train)\n",
    "dval = xgb.DMatrix(X_val, label=y_val)\n",
    "\n",
    "# Set hyperparameters for XGBoost\n",
    "params = {\n",
    "    'objective': 'binary:logistic',  # Use binary classification\n",
    "    'eval_metric': 'error',           # Evaluate using classification error\n",
    "    'seed': 1                         # Set random seed for reproducibility\n",
    "}\n",
    "\n",
    "# Train the XGBoost model\n",
    "num_rounds = 436  # Number of boosting rounds (you can tune this hyperparameter)\n",
    "xgb_model = xgb.train(params, dtrain, num_rounds)\n",
    "\n",
    "# Make predictions on the validation set\n",
    "xgb_pred_val = xgb_model.predict(dval)\n",
    "xgb_pred_val_binary = [1 if p > 0.5 else 0 for p in xgb_pred_val]\n",
    "\n",
    "# Calculate accuracy score on the validation set\n",
    "xgb_val_score = accuracy_score(y_val, xgb_pred_val_binary)\n",
    "print('XGBoost Validation Accuracy Score:', xgb_val_score)"
   ]
  },
  {
   "cell_type": "code",
   "execution_count": 11,
   "metadata": {},
   "outputs": [
    {
     "ename": "NameError",
     "evalue": "name 'xgb_pred_val_binary' is not defined",
     "output_type": "error",
     "traceback": [
      "\u001b[1;31m---------------------------------------------------------------------------\u001b[0m",
      "\u001b[1;31mNameError\u001b[0m                                 Traceback (most recent call last)",
      "Input \u001b[1;32mIn [11]\u001b[0m, in \u001b[0;36m<cell line: 5>\u001b[1;34m()\u001b[0m\n\u001b[0;32m      2\u001b[0m \u001b[38;5;28;01mimport\u001b[39;00m \u001b[38;5;21;01mseaborn\u001b[39;00m \u001b[38;5;28;01mas\u001b[39;00m \u001b[38;5;21;01msns\u001b[39;00m\n\u001b[0;32m      4\u001b[0m \u001b[38;5;66;03m# Generate confusion matrix\u001b[39;00m\n\u001b[1;32m----> 5\u001b[0m xgb_conf_matrix \u001b[38;5;241m=\u001b[39m confusion_matrix(y_val, \u001b[43mxgb_pred_val_binary\u001b[49m)\n\u001b[0;32m      6\u001b[0m xgb_conf_matrix\n",
      "\u001b[1;31mNameError\u001b[0m: name 'xgb_pred_val_binary' is not defined"
     ]
    }
   ],
   "source": [
    "from sklearn.metrics import confusion_matrix\n",
    "import seaborn as sns\n",
    "\n",
    "# Generate confusion matrix\n",
    "xgb_conf_matrix = confusion_matrix(y_val, xgb_pred_val_binary)\n",
    "xgb_conf_matrix\n",
    "# Plot confusion matrix\n",
    "# plt.figure(figsize=(8, 6))\n",
    "# sns.heatmap(xgb_conf_matrix, annot=True, fmt='d', cmap='Blues', cbar=False)\n",
    "# plt.xlabel('Predicted labels')\n",
    "# plt.ylabel('True labels')\n",
    "# plt.title('XGBoost Confusion Matrix')\n",
    "# plt.show()\n"
   ]
  },
  {
   "cell_type": "code",
   "execution_count": 12,
   "metadata": {},
   "outputs": [
    {
     "name": "stdout",
     "output_type": "stream",
     "text": [
      "Gradient Boosting Classifier Validation Accuracy Score: 0.8883884215407034\n"
     ]
    }
   ],
   "source": [
    "from sklearn.ensemble import GradientBoostingClassifier\n",
    "from sklearn.metrics import accuracy_score\n",
    "\n",
    "# Initialize and train the Gradient Boosting Classifier on the entire training set\n",
    "gb_model = GradientBoostingClassifier(random_state=1)\n",
    "gb_model.fit(X_train, y_train)\n",
    "\n",
    "# Make predictions on the validation set\n",
    "gb_pred_val = gb_model.predict(X_val)\n",
    "\n",
    "# Calculate accuracy score on the validation set\n",
    "gb_val_score = accuracy_score(y_val, gb_pred_val)\n",
    "print('Gradient Boosting Classifier Validation Accuracy Score:', gb_val_score)\n"
   ]
  },
  {
   "cell_type": "code",
   "execution_count": 13,
   "metadata": {},
   "outputs": [],
   "source": [
    "# Training data\n",
    "y_train = df['FINALIZED_LOAN']\n",
    "X_train = df.drop(columns=\"FINALIZED_LOAN\")"
   ]
  },
  {
   "cell_type": "code",
   "execution_count": 14,
   "metadata": {},
   "outputs": [
    {
     "name": "stdout",
     "output_type": "stream",
     "text": [
      "Fold 1 of 10\n",
      "Accuracy Score: 0.8894039735099337\n",
      "Fold 2 of 10\n",
      "Accuracy Score: 0.8960264900662251\n",
      "Fold 3 of 10\n",
      "Accuracy Score: 0.8834437086092716\n",
      "Fold 4 of 10\n",
      "Accuracy Score: 0.895364238410596\n",
      "Fold 5 of 10\n",
      "Accuracy Score: 0.9052980132450331\n",
      "Fold 6 of 10\n",
      "Accuracy Score: 0.8913907284768212\n",
      "Fold 7 of 10\n",
      "Accuracy Score: 0.890728476821192\n",
      "Fold 8 of 10\n",
      "Accuracy Score: 0.8979456593770709\n",
      "Fold 9 of 10\n",
      "Accuracy Score: 0.8899933730947648\n",
      "Fold 10 of 10\n",
      "Accuracy Score: 0.8906560636182903\n"
     ]
    }
   ],
   "source": [
    "# Initialize stratified k-fold\n",
    "kf = StratifiedKFold(n_splits=10, random_state=1, shuffle=True)\n",
    "\n",
    "# Initialize a variable to keep track of fold number\n",
    "fold = 1\n",
    "\n",
    "# Iterate over each fold\n",
    "for train_index, test_index in kf.split(X_train, y_train):\n",
    "    print('Fold {} of {}'.format(fold, kf.n_splits))\n",
    "    \n",
    "    # Split data into train and validation sets\n",
    "    xtr, xvl = X_train.iloc[train_index], X_train.iloc[test_index]\n",
    "    ytr, yvl = y_train.iloc[train_index], y_train.iloc[test_index]\n",
    "    \n",
    "    # Initialize and train the decision tree classifier\n",
    "    model = RandomForestClassifier(random_state=1)\n",
    "    model.fit(xtr, ytr)\n",
    "    \n",
    "    # Make predictions on the validation set\n",
    "    pred_val = model.predict(xvl)\n",
    "    \n",
    "    # Calculate and print accuracy score\n",
    "    score = accuracy_score(yvl, pred_val)\n",
    "    print('Accuracy Score:', score)\n",
    "    \n",
    "    # Increment fold number\n",
    "    fold += 1\n"
   ]
  },
  {
   "cell_type": "code",
   "execution_count": 15,
   "metadata": {},
   "outputs": [
    {
     "name": "stdout",
     "output_type": "stream",
     "text": [
      "Fold 1 of 10\n",
      "Accuracy Score: 0.6178489702517163\n",
      "Fold 2 of 10\n",
      "Accuracy Score: 0.642369020501139\n",
      "Fold 3 of 10\n",
      "Accuracy Score: 0.6088888888888889\n",
      "Fold 4 of 10\n",
      "Accuracy Score: 0.6565217391304348\n",
      "Fold 5 of 10\n",
      "Accuracy Score: 0.6786516853932585\n",
      "Fold 6 of 10\n",
      "Accuracy Score: 0.645021645021645\n",
      "Fold 7 of 10\n",
      "Accuracy Score: 0.6325167037861915\n",
      "Fold 8 of 10\n",
      "Accuracy Score: 0.6515837104072398\n",
      "Fold 9 of 10\n",
      "Accuracy Score: 0.6261261261261261\n",
      "Fold 10 of 10\n",
      "Accuracy Score: 0.6275395033860045\n"
     ]
    }
   ],
   "source": [
    "# Initialize stratified k-fold\n",
    "kf = StratifiedKFold(n_splits=10, random_state=1, shuffle=True)\n",
    "\n",
    "# Initialize a variable to keep track of fold number\n",
    "fold = 1\n",
    "\n",
    "# Iterate over each fold\n",
    "for train_index, test_index in kf.split(X_train, y_train):\n",
    "    print('Fold {} of {}'.format(fold, kf.n_splits))\n",
    "    \n",
    "    # Split data into train and validation sets\n",
    "    xtr, xvl = X_train.iloc[train_index], X_train.iloc[test_index]\n",
    "    ytr, yvl = y_train.iloc[train_index], y_train.iloc[test_index]\n",
    "    \n",
    "    # Initialize and train the decision tree classifier\n",
    "    model = RandomForestClassifier(random_state=1)\n",
    "    model.fit(xtr, ytr)\n",
    "    \n",
    "    # Make predictions on the validation set\n",
    "    pred_val = model.predict(xvl)\n",
    "    \n",
    "    # Calculate and print accuracy score\n",
    "    score = f1_score(yvl, pred_val)\n",
    "    print('Accuracy Score:', score)\n",
    "    \n",
    "    # Increment fold number\n",
    "    fold += 1"
   ]
  },
  {
   "cell_type": "code",
   "execution_count": null,
   "metadata": {},
   "outputs": [],
   "source": []
  }
 ],
 "metadata": {
  "kernelspec": {
   "display_name": "Python 3 (ipykernel)",
   "language": "python",
   "name": "python3"
  },
  "language_info": {
   "codemirror_mode": {
    "name": "ipython",
    "version": 3
   },
   "file_extension": ".py",
   "mimetype": "text/x-python",
   "name": "python",
   "nbconvert_exporter": "python",
   "pygments_lexer": "ipython3",
   "version": "3.9.12"
  }
 },
 "nbformat": 4,
 "nbformat_minor": 2
}
