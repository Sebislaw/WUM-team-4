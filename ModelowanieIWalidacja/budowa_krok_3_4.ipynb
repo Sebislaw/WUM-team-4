{
 "cells": [
  {
   "cell_type": "markdown",
   "id": "9362a3c1",
   "metadata": {},
   "source": [
    "# Modelowania i walidacja\n",
    "### Stellar Classification Dataset - SDSS17\n",
    "https://www.kaggle.com/datasets/fedesoriano/stellar-classification-dataset-sdss17\n",
    "\n",
    "obj_ID = Object Identifier, the unique value that identifies the object in the image catalog used by the CAS\\\n",
    "alpha = Right Ascension angle (at J2000 epoch)\\\n",
    "delta = Declination angle (at J2000 epoch)\\\n",
    "u = Ultraviolet filter in the photometric system\\\n",
    "g = Green filter in the photometric system\\\n",
    "r = Red filter in the photometric system\\\n",
    "i = Near Infrared filter in the photometric system\\\n",
    "z = Infrared filter in the photometric system\\\n",
    "run_ID = Run Number used to identify the specific scan\\\n",
    "rereun_ID = Rerun Number to specify how the image was processed\\\n",
    "cam_col = Camera column to identify the scanline within the run\\\n",
    "field_ID = Field number to identify each field\\\n",
    "spec_obj_ID = Unique ID used for optical spectroscopic objects (this means that 2 different observations with the same spec_obj_ID must share the output class)\\\n",
    "class = object class (galaxy, star or quasar object)\\\n",
    "redshift = redshift value based on the increase in wavelength\\\n",
    "plate = plate ID, identifies each plate in SDSS\\\n",
    "MJD = Modified Julian Date, used to indicate when a given piece of SDSS data was taken\\\n",
    "fiber_ID = fiber ID that identifies the fiber that pointed the light at the focal plane in each observation\\\n",
    "\n",
    "#### Citation\n",
    "fedesoriano. (January 2022). Stellar Classification Dataset - SDSS17. Retrieved [Date Retrieved] from https://www.kaggle.com/fedesoriano/stellar-classification-dataset-sdss17.\n",
    "\n",
    "Acknowledgements\n",
    "The data released by the SDSS is under public domain. Its taken from the current data release RD17.\n",
    "\n",
    "More information about the license: http://www.sdss.org/science/image-gallery/"
   ]
  },
  {
   "cell_type": "markdown",
   "id": "7e24e600",
   "metadata": {},
   "source": [
    "#### Wczytanie bibliotek"
   ]
  },
  {
   "cell_type": "code",
   "execution_count": 1,
   "id": "e6b531c6",
   "metadata": {},
   "outputs": [],
   "source": [
    "import pandas as pd\n",
    "import numpy as np\n",
    "import matplotlib.pyplot as plt\n",
    "import matplotlib\n",
    "import seaborn as sns\n",
    "import sklearn \n",
    "\n",
    "from imblearn.over_sampling import SMOTE\n",
    "from sklearn.model_selection import train_test_split\n",
    "from sklearn.preprocessing import MinMaxScaler, StandardScaler\n",
    "from sklearn.feature_selection import mutual_info_classif\n",
    "from sklearn.preprocessing import OneHotEncoder\n",
    "from sklearn.multioutput import ClassifierChain\n",
    "from sklearn.metrics import accuracy_score, classification_report, confusion_matrix, roc_curve, auc, roc_auc_score\n",
    "from sklearn.multiclass import OneVsRestClassifier\n",
    "from sklearn.preprocessing import LabelBinarizer\n",
    "from sklearn.neighbors import KNeighborsClassifier\n",
    "from sklearn.ensemble import RandomForestClassifier\n",
    "from xgboost import XGBClassifier\n",
    "from sklearn.preprocessing import LabelEncoder\n",
    "from sklearn.metrics import accuracy_score, classification_report, confusion_matrix\n",
    "from sklearn.ensemble import GradientBoostingClassifier\n",
    "from sklearn.linear_model import LogisticRegression\n",
    "from sklearn.tree import DecisionTreeClassifier\n",
    "from sklearn.model_selection import GridSearchCV\n",
    "from sklearn.ensemble import VotingClassifier\n",
    "from sklearn.pipeline import make_pipeline\n",
    "import xgboost as xgb\n",
    "from sklearn.model_selection import cross_val_score\n",
    "\n",
    "import warnings\n",
    "warnings.filterwarnings('ignore')\n",
    "np.random.seed = 42"
   ]
  },
  {
   "cell_type": "code",
   "execution_count": 2,
   "id": "b7bf44c2",
   "metadata": {},
   "outputs": [
    {
     "name": "stdout",
     "output_type": "stream",
     "text": [
      "imblearn==0.0\n",
      "matplotlib==3.7.2\n",
      "numpy==1.24.3\n",
      "pandas==2.0.3\n",
      "scikit-learn==1.2.2\n",
      "seaborn==0.12.2\n",
      "xgboost==2.0.3\n"
     ]
    }
   ],
   "source": [
    "# Kod z https://stackoverflow.com/a/49199019 generujący zawartość requiments.txt\n",
    "import pkg_resources\n",
    "import types\n",
    "def get_imports():\n",
    "    for name, val in globals().items():\n",
    "        if isinstance(val, types.ModuleType):\n",
    "            name = val.__name__.split(\".\")[0]\n",
    "        elif isinstance(val, type):\n",
    "            name = val.__module__.split(\".\")[0]\n",
    "        poorly_named_packages = {\"PIL\": \"Pillow\", \"sklearn\": \"scikit-learn\"}\n",
    "        if name in poorly_named_packages.keys():\n",
    "            name = poorly_named_packages[name]\n",
    "        yield name\n",
    "imports = list(set(get_imports()))\n",
    "requirements = []\n",
    "for m in pkg_resources.working_set:\n",
    "    if m.project_name in imports and m.project_name!=\"pip\":\n",
    "        requirements.append((m.project_name, m.version))\n",
    "for i in range(len(requirements)):\n",
    "    print(f'{requirements[i][0]}=={requirements[i][1]}')"
   ]
  },
  {
   "cell_type": "markdown",
   "id": "9859b3da",
   "metadata": {},
   "source": [
    "#### Używane funkcje"
   ]
  },
  {
   "cell_type": "code",
   "execution_count": 3,
   "id": "f7a21c8a",
   "metadata": {},
   "outputs": [],
   "source": [
    "def handle_outliers(df):\n",
    "    columns_to_be_checked = ['r', 'u', 'i', 'z', 'g']\n",
    "    \n",
    "    df = df[df['u'] > 0]\n",
    "\n",
    "    for i in range(len(columns_to_be_checked)):\n",
    "        column = df[columns_to_be_checked[i]]\n",
    "        Q1 = column.quantile(0.25)\n",
    "        Q3 = column.quantile(0.75)\n",
    "\n",
    "        IQR = Q3 - Q1\n",
    "\n",
    "        lower_bound = Q1 - 1.5 * IQR\n",
    "        upper_bound = Q3 + 1.5 * IQR\n",
    "\n",
    "        outliers = (column < lower_bound) | (column > upper_bound)\n",
    "\n",
    "        outliers_count = outliers.sum()\n",
    "\n",
    "        outliers_percentage = outliers.mean() * 100\n",
    "        \n",
    "        # Zastąpienie outlierów wartościami równymi Q1 - 1.5 * IQR lub Q3 + 1.5 * IQR\n",
    "        df.loc[outliers, columns_to_be_checked[i]] = np.where(column[outliers] < lower_bound, lower_bound, upper_bound)\n",
    "\n",
    "        print(\"Ilość outlierów dla kolumny \", columns_to_be_checked[i], \": \", outliers_count)\n",
    "        print(\"Procentowy udział outlierów dla kolumny \", columns_to_be_checked[i], \": \", outliers_percentage)\n",
    "\n",
    "    return df\n",
    "\n",
    "def modify_data(df, do_handle_outliers=False):\n",
    "    \n",
    "    if do_handle_outliers:\n",
    "        df = handle_outliers(df)\n",
    "    df = df[df['u'] > 0]\n",
    "    \n",
    "    df = df.loc[:, df.columns != 'rerun_ID']\n",
    "    df = df.loc[:, df.columns != 'obj_ID']\n",
    "    df = df.loc[:, df.columns != 'plate']\n",
    "    \n",
    "    df['r+i+z'] = df[['r', 'i', 'z']].sum(axis=1)\n",
    "\n",
    "    # Normalizacja\n",
    "    columns_to_normalize = ['run_ID', 'cam_col', 'spec_obj_ID', 'MJD', 'alpha', 'fiber_ID']\n",
    "    df[columns_to_normalize] = MinMaxScaler().fit_transform(df[columns_to_normalize])\n",
    "\n",
    "    # Standaryzacja\n",
    "    columns_to_standardize = ['delta', 'u', 'g', 'r', 'i', 'z', 'redshift', 'field_ID', 'r+i+z']\n",
    "    df[columns_to_standardize] = StandardScaler().fit_transform(df[columns_to_standardize])\n",
    "\n",
    "    # Usuwanie kolumn\n",
    "    df = df.drop(['MJD'], axis = 1)\n",
    "    df = df.drop(['r', 'i', 'z'], axis = 1)\n",
    "\n",
    "    # Odrzucenie cech na podstawie interpretacji ich znaczenia\n",
    "    df = df.drop(['spec_obj_ID'], axis = 1) # numer obiektu\n",
    "    df = df.drop(['alpha'], axis = 1) # współrzędne astronomiczne\n",
    "    df = df.drop(['delta'], axis = 1) # współrzędne astronomiczne\n",
    "    df = df.drop(['field_ID'], axis = 1) # numer pola ze zdjęcia (fragment zdjęcia)\n",
    "    df = df.drop(['cam_col'], axis = 1) # numer kolumny ze zdjęcia (fragment zdjęcia)\n",
    "    df = df.drop(['run_ID'], axis = 1) # numer zdjęcia\n",
    "    df = df.drop(['fiber_ID'], axis = 1) # numer włókna, które skierowało światło na płaszczyznę ogniskową\n",
    "    \n",
    "    return df\n",
    "\n",
    "def accuracy_fun(test_target, test_predictions):\n",
    "    # Dokładność całkowita\n",
    "    accuracy = accuracy_score(test_target, test_predictions)\n",
    "    print(\"Dokładność całkowita (Accuracy):\", accuracy)\n",
    "    return accuracy\n",
    "\n",
    "def raport(test_target, test_predictions):\n",
    "    print(\"\\nRaport klasyfikacji:\")\n",
    "    print(classification_report(test_target, test_predictions))\n",
    "\n",
    "def matrix_confusion(test_target, test_predictions):\n",
    "    print(\"\\nConfusion matrix:\")\n",
    "    print(confusion_matrix(test_target, test_predictions))\n",
    "\n",
    "\n",
    "def auc_gini(lb, test_target_bin, proba_predictions, test_target, model):\n",
    "    auc_scores = []\n",
    "    for i in range(len(lb.classes_)):\n",
    "        auc_score = roc_auc_score(test_target_bin[:, i], proba_predictions[:, i])\n",
    "        auc_scores.append(auc_score)\n",
    "        print(f\"AUC dla klasy {lb.classes_[i]}: {auc_score}\")\n",
    "        print(f\"Gini dla klasy {lb.classes_[i]}: {2 * auc_score - 1}\")\n",
    "        print(\" \")\n",
    "        \n",
    "        fpr, tpr, _ = roc_curve(test_target == model.classes_[i], proba_predictions[:, i])\n",
    "        plt.plot(fpr, tpr, label=f'{model.classes_[i]} (AUC = {auc_score:.2f})')\n",
    "    \n",
    "    # Średni AUC\n",
    "    mean_auc = np.mean(auc_scores)\n",
    "    print(\"Średni AUC:\", mean_auc)\n",
    "    \n",
    "    gini_coefficient = 2 * mean_auc - 1\n",
    "    print(\"Gini coefficient:\", gini_coefficient)\n",
    "    return auc_scores, mean_auc, gini_coefficient\n",
    "\n",
    "def evaluate_model(model, train_df, test_df, wersja=1):\n",
    "    \n",
    "    # Dane\n",
    "    train_target = train_df['class']\n",
    "    train_data = train_df.drop('class', axis=1)\n",
    "    test_target = test_df['class']\n",
    "    test_data = test_df.drop('class', axis=1)\n",
    "    \n",
    "    if wersja == 1:\n",
    "\n",
    "        # Trenowanie modelu\n",
    "        model.fit(train_data, train_target)\n",
    "\n",
    "        # Predykcja klas dla danych testowych\n",
    "        test_predictions = model.predict(test_data)\n",
    "\n",
    "        # Accuracy\n",
    "        accuracy = accuracy_fun(test_target, test_predictions)\n",
    "\n",
    "        # Raport klasyfikacji\n",
    "        raport(test_target, test_predictions)\n",
    "\n",
    "        # Macierz pomyłek\n",
    "        matrix_confusion(test_target, test_predictions)\n",
    "\n",
    "        proba_predictions = model.predict_proba(test_data)\n",
    "\n",
    "        # Konwersja etykiet klas na formę binarną dla każdej klasy\n",
    "        lb = LabelBinarizer()\n",
    "        lb.fit(train_target)\n",
    "        test_target_bin = lb.transform(test_target)\n",
    "\n",
    "        # Obliczenie AUC dla każdej klasy\n",
    "        auc_gini(lb, test_target_bin, proba_predictions, test_target, model)\n",
    "    \n",
    "    if wersja == 2:\n",
    "\n",
    "        # Zakodowanie etykiet klas jako liczby\n",
    "        label_encoder = LabelEncoder()\n",
    "        train_target_encoded = label_encoder.fit_transform(train_target)\n",
    "        test_target_encoded = label_encoder.transform(test_target)\n",
    "\n",
    "        # Trenowanie modelu XGBoost\n",
    "        model.fit(train_data, train_target_encoded)\n",
    "\n",
    "        # Predykcja klas dla danych testowych\n",
    "        test_predictions = model.predict(test_data)\n",
    "\n",
    "        # Accuracy\n",
    "        accuracy = accuracy_fun(test_target_encoded, test_predictions)\n",
    "\n",
    "        # Raport klasyfikacji\n",
    "        raport(test_target_encoded, test_predictions)\n",
    "\n",
    "        # Macierz pomyłek\n",
    "        matrix_confusion(test_target_encoded, test_predictions)\n",
    "\n",
    "        proba_predictions = model.predict_proba(test_data)\n",
    "\n",
    "        # Obliczenie AUC dla każdej klasy\n",
    "        auc_scores = []\n",
    "        for i in range(len(label_encoder.classes_)):\n",
    "            auc_score = roc_auc_score(test_target_encoded == i, proba_predictions[:, i])\n",
    "            auc_scores.append(auc_score)\n",
    "            print(f\"AUC dla klasy {label_encoder.classes_[i]}: {auc_score}\")\n",
    "            print(f\"Gini dla klasy {label_encoder.classes_[i]}: {2 * auc_score - 1}\")\n",
    "            print(\" \")\n",
    "\n",
    "        # Średni AUC\n",
    "        mean_auc = np.mean(auc_scores)\n",
    "        print(\"Średni AUC:\", mean_auc)\n",
    "\n",
    "        gini_coefficient = 2 * mean_auc - 1\n",
    "        print(\"Gini coefficient:\", gini_coefficient)\n",
    "        # Obliczenie AUC dla każdej klasy\n",
    "        auc_scores = []\n",
    "        for i in range(len(label_encoder.classes_)):\n",
    "            auc_score = roc_auc_score(test_target_encoded == i, proba_predictions[:, i])\n",
    "            auc_scores.append(auc_score)\n",
    "            print(f\"AUC dla klasy {label_encoder.classes_[i]}: {auc_score}\")\n",
    "            print(f\"Gini dla klasy {label_encoder.classes_[i]}: {2 * auc_score - 1}\")\n",
    "            print(\" \")\n",
    "\n",
    "        # Średni AUC\n",
    "        mean_auc = np.mean(auc_scores)\n",
    "        print(\"Średni AUC:\", mean_auc)\n",
    "\n",
    "        gini_coefficient = 2 * mean_auc - 1\n",
    "        print(\"Gini coefficient:\", gini_coefficient)\n",
    "        \n",
    "    if wersja == 3:\n",
    "\n",
    "        # Zakodowanie klas za pomocą OneHotEncoder\n",
    "        encoder = OneHotEncoder(sparse=False)\n",
    "        train_target = encoder.fit_transform(train[['class']])\n",
    "        test_target = encoder.transform(t[['class']])\n",
    "\n",
    "        model.fit(train_data, train_target)\n",
    "\n",
    "        # Predykcja klas dla danych testowych\n",
    "        test_predictions = model.predict(test_data)\n",
    "\n",
    "        # Accuracy\n",
    "        accuracy = accuracy_fun(test_target, test_predictions)\n",
    "\n",
    "        # Raport klasyfikacji\n",
    "        raport(test_target, test_predictions)\n",
    "\n",
    "        # Macierz pomyłek\n",
    "        #matrix_confusion(test_target, test_predictions)\n",
    "        proba_predictions = model.predict_proba(test_data)\n",
    "\n",
    "        # Konwersja etykiet klas na formę binarną dla każdej klasy\n",
    "        lb = LabelBinarizer()\n",
    "        lb.fit(train_target)\n",
    "        test_target_bin = lb.transform(test_target)\n",
    "\n",
    "        # Obliczenie AUC dla każdej klasy\n",
    "        auc_scores = []\n",
    "        for i in range(len(lb.classes_)):\n",
    "            auc_score = roc_auc_score(test_target_bin[:, i], proba_predictions[:, i])\n",
    "            auc_scores.append(auc_score)\n",
    "            print(f\"AUC dla klasy {lb.classes_[i]}: {auc_score}\")\n",
    "            print(f\"Gini dla klasy {lb.classes_[i]}: {2 * auc_score - 1}\")\n",
    "            print(\" \")\n",
    "\n",
    "        # Średni AUC\n",
    "        mean_auc = np.mean(auc_scores)\n",
    "        print(\"Średni AUC:\", mean_auc)\n",
    "\n",
    "        gini_coefficient = 2 * mean_auc - 1\n",
    "        print(\"Gini coefficient:\", gini_coefficient)\n",
    "        \n",
    "def hiperparams_model(model, train_df, test_df, param_grid):\n",
    "    \n",
    "    train_target = train_df['class']\n",
    "    train_data = train_df.drop('class', axis=1)\n",
    "    test_target = test_df['class']\n",
    "    test_data = test_df.drop('class', axis=1)\n",
    "    \n",
    "    # Konwersja etykiet\n",
    "    label_encoder = LabelEncoder()\n",
    "    train_target_encoded = label_encoder.fit_transform(train_target)\n",
    "    test_target_encoded = label_encoder.transform(test_target)\n",
    "\n",
    "    # Inicjalizacja GridSearchCV\n",
    "    grid_search = GridSearchCV(estimator=model, param_grid=param_grid, cv=5, scoring='accuracy', verbose=2, n_jobs=-1)\n",
    "\n",
    "    grid_search.fit(train_data, train_target_encoded)\n",
    "\n",
    "    # Najlepsze parametry znalezione podczas strojenia\n",
    "    best_params = grid_search.best_params_\n",
    "    print(\"Najlepsze parametry:\", best_params)\n",
    "\n",
    "    # Uzyskanie najlepszego modelu po strojeniu\n",
    "    best_model = grid_search.best_estimator_\n",
    "\n",
    "    # Predykcja na danych testowych\n",
    "    predictions = best_model.predict(test_data)\n",
    "    \n",
    "    # Dokładność\n",
    "    accuracy = accuracy_score(test_target_encoded, predictions)\n",
    "    print(\"Dokładność:\", accuracy)\n",
    "\n",
    "    # Raport klasyfikacji\n",
    "    class_names = label_encoder.classes_\n",
    "    classification_rep = classification_report(test_target_encoded, predictions, target_names=class_names)\n",
    "    print(\"Raport klasyfikacji:\")\n",
    "    print(classification_rep)\n",
    "\n",
    "    # Confusion matrix\n",
    "    conf_matrix = confusion_matrix(test_target_encoded, predictions)\n",
    "    print(\"Confusion Matrix:\")\n",
    "    print(conf_matrix)\n",
    "    \n",
    "    \n",
    "    # AUC i Gini dla najlepszego modelu\n",
    "    auc_scores = []\n",
    "    gini_scores = []\n",
    "    for class_name in class_names:\n",
    "        class_index = label_encoder.transform([class_name])[0]\n",
    "        class_probs = best_model.predict_proba(test_data)[:, class_index]\n",
    "        class_target = (test_target_encoded == class_index).astype(int)\n",
    "        auc = roc_auc_score(class_target, class_probs)\n",
    "        auc_scores.append(auc)\n",
    "        gini = 2 * auc - 1\n",
    "        gini_scores.append(gini)\n",
    "        print(f\"AUC dla klasy '{class_name}': {auc}\")\n",
    "        print(f\"Gini dla klasy '{class_name}': {gini}\")\n",
    "\n",
    "    # Średni AUC i Gini\n",
    "    mean_auc = np.mean(auc_scores)\n",
    "    mean_gini = np.mean(gini_scores)\n",
    "    print(f\"Średnie AUC: {mean_auc}\")\n",
    "    print(f\"Średni Gini: {mean_gini}\")\n",
    "    \n",
    "    return best_model, classification_rep, conf_matrix, mean_auc, mean_gini\n",
    "\n",
    "def ensemble_model_function(model, train_df, test_df):\n",
    "    \n",
    "    train_target = train_df['class']\n",
    "    train_data = train_df.drop('class', axis=1)\n",
    "    test_target = test_df['class']\n",
    "    test_data = test_df.drop('class', axis=1)\n",
    "\n",
    "    # Dopasowanie modelu do danych treningowych\n",
    "    ensemble_model.fit(train_data, train_target)\n",
    "\n",
    "    # Predykcja na danych testowych\n",
    "    predictions = ensemble_model.predict(test_data)\n",
    "\n",
    "    # Dokładność\n",
    "    accuracy = accuracy_score(test_target, predictions)\n",
    "    print(\"Dokładność:\", accuracy)\n",
    "\n",
    "    # Raport klasyfikacji\n",
    "    classification_rep = classification_report(test_target, predictions)\n",
    "    print(\"Raport klasyfikacji:\")\n",
    "    print(classification_rep)\n",
    "\n",
    "    # Confusion matrix\n",
    "    conf_matrix = confusion_matrix(test_target, predictions)\n",
    "    print(\"Confusion Matrix:\")\n",
    "    print(conf_matrix)\n",
    "\n",
    "    return ensemble_model, accuracy, classification_rep, conf_matrix"
   ]
  },
  {
   "cell_type": "markdown",
   "id": "f28454f7",
   "metadata": {},
   "source": [
    "#### Wczytanie i obróbka danych zgodnie z wnioskami z poprzednich etapów"
   ]
  },
  {
   "cell_type": "code",
   "execution_count": 4,
   "id": "e03182bd",
   "metadata": {},
   "outputs": [],
   "source": [
    "# Wczytanie danych - dane do trenowania modelu\n",
    "development_unit_df = pd.read_csv(\"..\\\\dane\\\\training_sample_team4.csv\")\n",
    "\n",
    "# Ramka danych walidacyjna dla zespołu budującego\n",
    "test = pd.read_csv(\"..\\\\dane\\\\validation_sample_team4.csv\")"
   ]
  },
  {
   "cell_type": "markdown",
   "id": "bd3eab00",
   "metadata": {},
   "source": [
    "#### Dla przypomnienia:\n",
    "- usunięto kolumny silnie skorelowane\n",
    "- filtry czerwone, podczerwone i bliskie podczerwieni zostały zsumowane i zawarte w jednej, nowej kolumnie (r + i + z)\n",
    "- końcowo, do tworzenia modeli użyto kolumn związanych z filtrami oraz kolumnę 'redshift' - uznano, że wszystkie zmienne związane z id lub z położeniem obiektów (kąty alpha i delta) nie wpływają na efektywność modelu\n",
    "- kolumny zostały zestandaryzowane lub znormalizowane"
   ]
  },
  {
   "cell_type": "code",
   "execution_count": 5,
   "id": "8e9864d5",
   "metadata": {},
   "outputs": [
    {
     "data": {
      "text/html": [
       "<div>\n",
       "<style scoped>\n",
       "    .dataframe tbody tr th:only-of-type {\n",
       "        vertical-align: middle;\n",
       "    }\n",
       "\n",
       "    .dataframe tbody tr th {\n",
       "        vertical-align: top;\n",
       "    }\n",
       "\n",
       "    .dataframe thead th {\n",
       "        text-align: right;\n",
       "    }\n",
       "</style>\n",
       "<table border=\"1\" class=\"dataframe\">\n",
       "  <thead>\n",
       "    <tr style=\"text-align: right;\">\n",
       "      <th></th>\n",
       "      <th>u</th>\n",
       "      <th>g</th>\n",
       "      <th>class</th>\n",
       "      <th>redshift</th>\n",
       "      <th>r+i+z</th>\n",
       "    </tr>\n",
       "  </thead>\n",
       "  <tbody>\n",
       "    <tr>\n",
       "      <th>0</th>\n",
       "      <td>0.678738</td>\n",
       "      <td>0.564729</td>\n",
       "      <td>QSO</td>\n",
       "      <td>2.408604</td>\n",
       "      <td>1.427677</td>\n",
       "    </tr>\n",
       "    <tr>\n",
       "      <th>1</th>\n",
       "      <td>-1.548889</td>\n",
       "      <td>-1.533804</td>\n",
       "      <td>GALAXY</td>\n",
       "      <td>-0.730359</td>\n",
       "      <td>-1.239177</td>\n",
       "    </tr>\n",
       "    <tr>\n",
       "      <th>2</th>\n",
       "      <td>-1.744904</td>\n",
       "      <td>-2.029105</td>\n",
       "      <td>STAR</td>\n",
       "      <td>-0.790164</td>\n",
       "      <td>-2.116429</td>\n",
       "    </tr>\n",
       "    <tr>\n",
       "      <th>3</th>\n",
       "      <td>-1.006758</td>\n",
       "      <td>-1.066027</td>\n",
       "      <td>GALAXY</td>\n",
       "      <td>-0.677478</td>\n",
       "      <td>-0.936643</td>\n",
       "    </tr>\n",
       "    <tr>\n",
       "      <th>4</th>\n",
       "      <td>-1.228689</td>\n",
       "      <td>-1.217197</td>\n",
       "      <td>GALAXY</td>\n",
       "      <td>-0.705030</td>\n",
       "      <td>-0.941500</td>\n",
       "    </tr>\n",
       "  </tbody>\n",
       "</table>\n",
       "</div>"
      ],
      "text/plain": [
       "          u         g   class  redshift     r+i+z\n",
       "0  0.678738  0.564729     QSO  2.408604  1.427677\n",
       "1 -1.548889 -1.533804  GALAXY -0.730359 -1.239177\n",
       "2 -1.744904 -2.029105    STAR -0.790164 -2.116429\n",
       "3 -1.006758 -1.066027  GALAXY -0.677478 -0.936643\n",
       "4 -1.228689 -1.217197  GALAXY -0.705030 -0.941500"
      ]
     },
     "execution_count": 5,
     "metadata": {},
     "output_type": "execute_result"
    }
   ],
   "source": [
    "df = modify_data(development_unit_df)\n",
    "train = df.copy()\n",
    "df.head()"
   ]
  },
  {
   "cell_type": "code",
   "execution_count": 6,
   "id": "41716ab3",
   "metadata": {},
   "outputs": [
    {
     "data": {
      "text/html": [
       "<div>\n",
       "<style scoped>\n",
       "    .dataframe tbody tr th:only-of-type {\n",
       "        vertical-align: middle;\n",
       "    }\n",
       "\n",
       "    .dataframe tbody tr th {\n",
       "        vertical-align: top;\n",
       "    }\n",
       "\n",
       "    .dataframe thead th {\n",
       "        text-align: right;\n",
       "    }\n",
       "</style>\n",
       "<table border=\"1\" class=\"dataframe\">\n",
       "  <thead>\n",
       "    <tr style=\"text-align: right;\">\n",
       "      <th></th>\n",
       "      <th>u</th>\n",
       "      <th>g</th>\n",
       "      <th>class</th>\n",
       "      <th>redshift</th>\n",
       "      <th>r+i+z</th>\n",
       "    </tr>\n",
       "  </thead>\n",
       "  <tbody>\n",
       "    <tr>\n",
       "      <th>0</th>\n",
       "      <td>0.695276</td>\n",
       "      <td>0.356829</td>\n",
       "      <td>QSO</td>\n",
       "      <td>2.206901</td>\n",
       "      <td>1.028846</td>\n",
       "    </tr>\n",
       "    <tr>\n",
       "      <th>1</th>\n",
       "      <td>0.181652</td>\n",
       "      <td>0.253514</td>\n",
       "      <td>GALAXY</td>\n",
       "      <td>-0.706093</td>\n",
       "      <td>0.983483</td>\n",
       "    </tr>\n",
       "    <tr>\n",
       "      <th>2</th>\n",
       "      <td>-0.365789</td>\n",
       "      <td>0.220670</td>\n",
       "      <td>QSO</td>\n",
       "      <td>2.013251</td>\n",
       "      <td>0.858295</td>\n",
       "    </tr>\n",
       "    <tr>\n",
       "      <th>3</th>\n",
       "      <td>0.755954</td>\n",
       "      <td>0.621619</td>\n",
       "      <td>STAR</td>\n",
       "      <td>-0.786839</td>\n",
       "      <td>-0.019734</td>\n",
       "    </tr>\n",
       "    <tr>\n",
       "      <th>4</th>\n",
       "      <td>0.763436</td>\n",
       "      <td>0.793553</td>\n",
       "      <td>GALAXY</td>\n",
       "      <td>-0.010139</td>\n",
       "      <td>0.314233</td>\n",
       "    </tr>\n",
       "  </tbody>\n",
       "</table>\n",
       "</div>"
      ],
      "text/plain": [
       "          u         g   class  redshift     r+i+z\n",
       "0  0.695276  0.356829     QSO  2.206901  1.028846\n",
       "1  0.181652  0.253514  GALAXY -0.706093  0.983483\n",
       "2 -0.365789  0.220670     QSO  2.013251  0.858295\n",
       "3  0.755954  0.621619    STAR -0.786839 -0.019734\n",
       "4  0.763436  0.793553  GALAXY -0.010139  0.314233"
      ]
     },
     "execution_count": 6,
     "metadata": {},
     "output_type": "execute_result"
    }
   ],
   "source": [
    "t = modify_data(test)\n",
    "t.head()"
   ]
  },
  {
   "cell_type": "markdown",
   "id": "03a7f754",
   "metadata": {},
   "source": [
    "## 2. Modelowanie bez strojenia hiperparametrów: \n",
    "Użyto 7 modeli klasyfikacyjnych, następnie na podstawie ich predykcyjności wybrano modele do dalszej obróbki\n",
    "\n",
    "### Model 1 - KNeighboursClassifier"
   ]
  },
  {
   "cell_type": "code",
   "execution_count": 7,
   "id": "1cf0fc0f",
   "metadata": {},
   "outputs": [
    {
     "name": "stdout",
     "output_type": "stream",
     "text": [
      "Dokładność całkowita (Accuracy): 0.9616666666666667\n",
      "\n",
      "Raport klasyfikacji:\n",
      "              precision    recall  f1-score   support\n",
      "\n",
      "      GALAXY       0.97      0.96      0.97     12538\n",
      "         QSO       0.96      0.93      0.94      3973\n",
      "        STAR       0.93      0.99      0.96      4489\n",
      "\n",
      "    accuracy                           0.96     21000\n",
      "   macro avg       0.95      0.96      0.96     21000\n",
      "weighted avg       0.96      0.96      0.96     21000\n",
      "\n",
      "\n",
      "Confusion matrix:\n",
      "[[12061   164   313]\n",
      " [  282  3687     4]\n",
      " [   39     3  4447]]\n",
      "AUC dla klasy GALAXY: 0.9798361456709301\n",
      "Gini dla klasy GALAXY: 0.9596722913418603\n",
      " \n",
      "AUC dla klasy QSO: 0.9781896643005111\n",
      "Gini dla klasy QSO: 0.9563793286010223\n",
      " \n",
      "AUC dla klasy STAR: 0.9939127170652037\n",
      "Gini dla klasy STAR: 0.9878254341304074\n",
      " \n",
      "Średni AUC: 0.9839795090122149\n",
      "Gini coefficient: 0.9679590180244297\n"
     ]
    },
    {
     "data": {
      "image/png": "[encoded data removed]",
      "text/plain": [
       "<Figure size 640x480 with 1 Axes>"
      ]
     },
     "metadata": {},
     "output_type": "display_data"
    }
   ],
   "source": [
    "evaluate_model(KNeighborsClassifier(), train, t)"
   ]
  },
  {
   "cell_type": "markdown",
   "id": "67875872",
   "metadata": {},
   "source": [
    "Model klasyfikacji KNN osiągnął ogólną dokładność na poziomie 96.15%. Z raportu klasyfikacji wynika, że model dobrze radzi sobie z klasyfikacją obiektów GALAXY oraz QSO, uzyskując odpowiednio 97% i 96% precyzji. Jednakże, dla klasy QSO (kwazarów) precyzja jest nieco niższa - 96%, co sugeruje, że model może mieć trudności w identyfikacji tej klasy.\n",
    "\n",
    "Analiza macierzy pomyłek pokazuje, że model często myli klasy GALAXY z QSO, co może wymagać dalszej optymalizacji.\n",
    "\n",
    "Średnie AUC dla każdej klasy oraz Gini coefficient wskazują, że model ma ogólnie dobrą zdolność do rozróżniania klas, z wynikami powyżej 0.95 dla każdej klasy."
   ]
  },
  {
   "cell_type": "markdown",
   "id": "95edace1",
   "metadata": {},
   "source": [
    "### Model 2 - RandomForestClassifier"
   ]
  },
  {
   "cell_type": "code",
   "execution_count": 8,
   "id": "0356b970",
   "metadata": {},
   "outputs": [
    {
     "name": "stdout",
     "output_type": "stream",
     "text": [
      "Dokładność całkowita (Accuracy): 0.9636666666666667\n",
      "\n",
      "Raport klasyfikacji:\n",
      "              precision    recall  f1-score   support\n",
      "\n",
      "      GALAXY       0.96      0.98      0.97     12538\n",
      "         QSO       0.96      0.93      0.94      3973\n",
      "        STAR       0.98      0.96      0.97      4489\n",
      "\n",
      "    accuracy                           0.96     21000\n",
      "   macro avg       0.96      0.95      0.96     21000\n",
      "weighted avg       0.96      0.96      0.96     21000\n",
      "\n",
      "\n",
      "Confusion matrix:\n",
      "[[12257   172   109]\n",
      " [  283  3689     1]\n",
      " [  198     0  4291]]\n",
      "AUC dla klasy GALAXY: 0.9891728577881453\n",
      "Gini dla klasy GALAXY: 0.9783457155762907\n",
      " \n",
      "AUC dla klasy QSO: 0.9882980970792292\n",
      "Gini dla klasy QSO: 0.9765961941584584\n",
      " \n",
      "AUC dla klasy STAR: 0.9975629024678377\n",
      "Gini dla klasy STAR: 0.9951258049356755\n",
      " \n",
      "Średni AUC: 0.9916779524450708\n",
      "Gini coefficient: 0.9833559048901417\n"
     ]
    },
    {
     "data": {
      "image/png": "[encoded data removed]",
      "text/plain": [
       "<Figure size 640x480 with 1 Axes>"
      ]
     },
     "metadata": {},
     "output_type": "display_data"
    }
   ],
   "source": [
    "evaluate_model(RandomForestClassifier(n_estimators=100, random_state=42), train, t)"
   ]
  },
  {
   "cell_type": "markdown",
   "id": "5b4cd823",
   "metadata": {},
   "source": [
    "Model RandomForestClassifier osiągnął nieznacznie wyższą dokładność całkowitą w porównaniu do modelu KNN.\n",
    "Wartości AUC dla klasy GALAXY i QSO są nieznacznie wyższe w przypadku drugiego modelu, podczas gdy dla klasy STAR wartość AUC jest zbliżona. Oznacza to, że RandomForestClassifier model ma lepszą zdolność do rozróżniania poszczególnych klas niż KNN"
   ]
  },
  {
   "cell_type": "markdown",
   "id": "62faea46",
   "metadata": {},
   "source": [
    "### Model 3 xboost"
   ]
  },
  {
   "cell_type": "code",
   "execution_count": 9,
   "id": "d8c5fcc0",
   "metadata": {},
   "outputs": [
    {
     "name": "stdout",
     "output_type": "stream",
     "text": [
      "Dokładność całkowita (Accuracy): 0.9535238095238096\n",
      "\n",
      "Raport klasyfikacji:\n",
      "              precision    recall  f1-score   support\n",
      "\n",
      "           0       0.95      0.98      0.96     12538\n",
      "           1       0.95      0.93      0.94      3973\n",
      "           2       0.97      0.91      0.94      4489\n",
      "\n",
      "    accuracy                           0.95     21000\n",
      "   macro avg       0.96      0.94      0.95     21000\n",
      "weighted avg       0.95      0.95      0.95     21000\n",
      "\n",
      "\n",
      "Confusion matrix:\n",
      "[[12243   188   107]\n",
      " [  286  3686     1]\n",
      " [  393     1  4095]]\n",
      "AUC dla klasy GALAXY: 0.9888218756130029\n",
      "Gini dla klasy GALAXY: 0.9776437512260059\n",
      " \n",
      "AUC dla klasy QSO: 0.9922263792965234\n",
      "Gini dla klasy QSO: 0.9844527585930467\n",
      " \n",
      "AUC dla klasy STAR: 0.9966394208339394\n",
      "Gini dla klasy STAR: 0.9932788416678788\n",
      " \n",
      "Średni AUC: 0.9925625585811552\n",
      "Gini coefficient: 0.9851251171623103\n",
      "AUC dla klasy GALAXY: 0.9888218756130029\n",
      "Gini dla klasy GALAXY: 0.9776437512260059\n",
      " \n",
      "AUC dla klasy QSO: 0.9922263792965234\n",
      "Gini dla klasy QSO: 0.9844527585930467\n",
      " \n",
      "AUC dla klasy STAR: 0.9966394208339394\n",
      "Gini dla klasy STAR: 0.9932788416678788\n",
      " \n",
      "Średni AUC: 0.9925625585811552\n",
      "Gini coefficient: 0.9851251171623103\n"
     ]
    }
   ],
   "source": [
    "evaluate_model(XGBClassifier(n_estimators=100, random_state=42), train, t, 2)"
   ]
  },
  {
   "cell_type": "markdown",
   "id": "2578f4f9",
   "metadata": {},
   "source": [
    "Model XGBoost poprawnie sklasyfikował 95.3% wszystkich próbek. Model osiągnął wysokie wartości precision dla wszystkich klas, co oznacza, że dobrze radził sobie zarówno z minimalizacją fałszywie pozytywnych jak i fałszywie negatywnych przypadków.\n",
    "Model poprawnie zidentyfikował większość przypadków dla wszystkich klas, najwięcej błędów pojawiło się z klasyfikacją star i galaxy - model przewidział błędnie 400 razy klasę galaxy zamiast star."
   ]
  },
  {
   "cell_type": "markdown",
   "id": "e55e3c73",
   "metadata": {},
   "source": [
    "### Model 4 Gradient Boosting"
   ]
  },
  {
   "cell_type": "code",
   "execution_count": 10,
   "id": "774c700a",
   "metadata": {
    "scrolled": false
   },
   "outputs": [
    {
     "name": "stdout",
     "output_type": "stream",
     "text": [
      "Dokładność całkowita (Accuracy): 0.9657142857142857\n",
      "\n",
      "Raport klasyfikacji:\n",
      "              precision    recall  f1-score   support\n",
      "\n",
      "      GALAXY       0.96      0.98      0.97     12538\n",
      "         QSO       0.96      0.91      0.94      3973\n",
      "        STAR       0.98      0.97      0.97      4489\n",
      "\n",
      "    accuracy                           0.97     21000\n",
      "   macro avg       0.97      0.96      0.96     21000\n",
      "weighted avg       0.97      0.97      0.97     21000\n",
      "\n",
      "\n",
      "Confusion matrix:\n",
      "[[12277   152   109]\n",
      " [  341  3631     1]\n",
      " [  116     1  4372]]\n",
      "AUC dla klasy GALAXY: 0.9888759961256423\n",
      "Gini dla klasy GALAXY: 0.9777519922512845\n",
      " \n",
      "AUC dla klasy QSO: 0.9912489781150503\n",
      "Gini dla klasy QSO: 0.9824979562301006\n",
      " \n",
      "AUC dla klasy STAR: 0.9963068425096191\n",
      "Gini dla klasy STAR: 0.9926136850192382\n",
      " \n",
      "Średni AUC: 0.9921439389167706\n",
      "Gini coefficient: 0.9842878778335411\n"
     ]
    },
    {
     "data": {
      "image/png": "[encoded data removed]",
      "text/plain": [
       "<Figure size 640x480 with 1 Axes>"
      ]
     },
     "metadata": {},
     "output_type": "display_data"
    }
   ],
   "source": [
    "evaluate_model(GradientBoostingClassifier(n_estimators=100, random_state=42), train, t)"
   ]
  },
  {
   "cell_type": "markdown",
   "id": "91dd9550",
   "metadata": {},
   "source": [
    "Model Gradient Boosting poprawnie sklasyfikował 96.6% wszystkich próbek.\n",
    "Macierz pomyłek pokazuje, że model poprawnie rozróżnia klasy star i quasar (tylko jeden błąd)!\n",
    "\n",
    "Podsumowując, zarówno model XGBoost, jak i Gradient Boosting wykazały się bardzo dobrymi wynikami, osiągając wysoką dokładność oraz skuteczność w klasyfikacji danych."
   ]
  },
  {
   "cell_type": "markdown",
   "id": "b9bfb78e",
   "metadata": {},
   "source": [
    "### Model 5: Regresja logistyczna"
   ]
  },
  {
   "cell_type": "code",
   "execution_count": 11,
   "id": "88a9fa54",
   "metadata": {},
   "outputs": [
    {
     "name": "stdout",
     "output_type": "stream",
     "text": [
      "Dokładność całkowita (Accuracy): 0.9532380952380952\n",
      "\n",
      "Raport klasyfikacji:\n",
      "              precision    recall  f1-score   support\n",
      "\n",
      "      GALAXY       0.96      0.96      0.96     12538\n",
      "         QSO       0.94      0.88      0.91      3973\n",
      "        STAR       0.94      1.00      0.97      4489\n",
      "\n",
      "    accuracy                           0.95     21000\n",
      "   macro avg       0.95      0.95      0.95     21000\n",
      "weighted avg       0.95      0.95      0.95     21000\n",
      "\n",
      "\n",
      "Confusion matrix:\n",
      "[[12054   205   279]\n",
      " [  491  3479     3]\n",
      " [    0     4  4485]]\n",
      "AUC dla klasy GALAXY: 0.9830761895796128\n",
      "Gini dla klasy GALAXY: 0.9661523791592257\n",
      " \n",
      "AUC dla klasy QSO: 0.9850521974168416\n",
      "Gini dla klasy QSO: 0.9701043948336832\n",
      " \n",
      "AUC dla klasy STAR: 0.9955970542546151\n",
      "Gini dla klasy STAR: 0.9911941085092302\n",
      " \n",
      "Średni AUC: 0.9879084804170232\n",
      "Gini coefficient: 0.9758169608340463\n"
     ]
    },
    {
     "data": {
      "image/png": "[encoded data removed]",
      "text/plain": [
       "<Figure size 640x480 with 1 Axes>"
      ]
     },
     "metadata": {},
     "output_type": "display_data"
    }
   ],
   "source": [
    "evaluate_model(LogisticRegression(max_iter=1000, random_state=42), train, t)"
   ]
  },
  {
   "cell_type": "markdown",
   "id": "6bd53b2b",
   "metadata": {},
   "source": [
    "Model regresji logistycznej ma nieco niższą dokładność niż modele XGBoost i Gradient Boosting. Na razie najlepiej przewiduje klasę Star - prawie brak pomyłek w klasyfikowaniu star i quasar oraz nie zakwalifikował błędnie żadnej gwiazdy do galaktyki!"
   ]
  },
  {
   "cell_type": "markdown",
   "id": "33dcfd76",
   "metadata": {},
   "source": [
    "### Model 6: Model Markova"
   ]
  },
  {
   "cell_type": "code",
   "execution_count": 12,
   "id": "0689a20a",
   "metadata": {},
   "outputs": [
    {
     "name": "stdout",
     "output_type": "stream",
     "text": [
      "Dokładność całkowita (Accuracy): 0.9003809523809524\n",
      "\n",
      "Raport klasyfikacji:\n",
      "              precision    recall  f1-score   support\n",
      "\n",
      "           0       0.92      0.96      0.94     12538\n",
      "           1       0.78      0.92      0.85      3973\n",
      "           2       0.97      0.72      0.83      4489\n",
      "\n",
      "   micro avg       0.90      0.90      0.90     21000\n",
      "   macro avg       0.89      0.87      0.87     21000\n",
      "weighted avg       0.91      0.90      0.90     21000\n",
      " samples avg       0.90      0.90      0.90     21000\n",
      "\n",
      "AUC dla klasy 0: 0.9206303077359081\n",
      "Gini dla klasy 0: 0.8412606154718163\n",
      " \n",
      "AUC dla klasy 1: 0.9299854906860812\n",
      "Gini dla klasy 1: 0.8599709813721623\n",
      " \n",
      "AUC dla klasy 2: 0.8575597528903925\n",
      "Gini dla klasy 2: 0.7151195057807851\n",
      " \n",
      "Średni AUC: 0.9027251837707939\n",
      "Gini coefficient: 0.8054503675415878\n"
     ]
    }
   ],
   "source": [
    "evaluate_model(ClassifierChain(base_estimator=DecisionTreeClassifier(), order='random', random_state=42), train, t, 3)"
   ]
  },
  {
   "cell_type": "markdown",
   "id": "3fabf07d",
   "metadata": {},
   "source": [
    "Model Markov Chain osiąga dobre wyniki, jednak w porówaniu z posostałymi modelami nie jest aż tak efektywny"
   ]
  },
  {
   "cell_type": "markdown",
   "id": "ad869696",
   "metadata": {},
   "source": [
    "### Model 7 Adaptacyjne drzewa decyzyjne"
   ]
  },
  {
   "cell_type": "code",
   "execution_count": 13,
   "id": "acc7e030",
   "metadata": {},
   "outputs": [
    {
     "name": "stdout",
     "output_type": "stream",
     "text": [
      "Dokładność całkowita (Accuracy): 0.8987142857142857\n",
      "\n",
      "Raport klasyfikacji:\n",
      "              precision    recall  f1-score   support\n",
      "\n",
      "      GALAXY       0.93      0.96      0.94     12538\n",
      "         QSO       0.77      0.92      0.83      3973\n",
      "        STAR       0.97      0.72      0.82      4489\n",
      "\n",
      "    accuracy                           0.90     21000\n",
      "   macro avg       0.89      0.86      0.87     21000\n",
      "weighted avg       0.91      0.90      0.90     21000\n",
      "\n",
      "\n",
      "Confusion matrix:\n",
      "[[12020   422    96]\n",
      " [  333  3639     1]\n",
      " [  589   686  3214]]\n",
      "AUC dla klasy GALAXY: 0.9248639512860342\n",
      "Gini dla klasy GALAXY: 0.8497279025720683\n",
      " \n",
      "AUC dla klasy QSO: 0.9254297127564428\n",
      "Gini dla klasy QSO: 0.8508594255128856\n",
      " \n",
      "AUC dla klasy STAR: 0.8550487528117203\n",
      "Gini dla klasy STAR: 0.7100975056234407\n",
      " \n",
      "Średni AUC: 0.9017808056180657\n",
      "Gini coefficient: 0.8035616112361315\n"
     ]
    },
    {
     "data": {
      "image/png": "[encoded data removed]",
      "text/plain": [
       "<Figure size 640x480 with 1 Axes>"
      ]
     },
     "metadata": {},
     "output_type": "display_data"
    }
   ],
   "source": [
    "evaluate_model(DecisionTreeClassifier(), train, t)"
   ]
  },
  {
   "cell_type": "markdown",
   "id": "aa54e352",
   "metadata": {},
   "source": [
    "Model DecisionTreeClassifier osiąga gorsze wyniki niż np. regresja logistyczna czy xgboost. Bardzo słabo przewiduje klasę STAR, co jest atutem pozostałych modeli."
   ]
  },
  {
   "cell_type": "markdown",
   "id": "d97c18d5",
   "metadata": {},
   "source": [
    "### Model 8 RandomForestClassifier, ramka danych bez 'field_ID', 'cam_col',  z 'r+i+z'\n",
    "Sprowadzenie ramki danych do dotychczas używanej formy wynikało z próby maksymalizacji wyników różnych modeli w etapie inźynierii cech, natomiast RandomForestClassifier jako jedyny osiągał lepsze wyniki na mniej obrobionej ramce danych. Z tego powodu, metodą prób i błędów, okazało się, że ten model osiąga najlepsze notowania dla ramki danych zmodefikowanej w sposób widoczny w funkcji poniższej 'modify_data_2'."
   ]
  },
  {
   "cell_type": "code",
   "execution_count": 7,
   "id": "acc12b8b",
   "metadata": {},
   "outputs": [
    {
     "data": {
      "image/png": "[encoded data removed]",
      "text/plain": [
       "<Figure size 640x480 with 1 Axes>"
      ]
     },
     "metadata": {},
     "output_type": "display_data"
    },
    {
     "name": "stdout",
     "output_type": "stream",
     "text": [
      "Dokładność całkowita (Accuracy): 0.9735238095238096\n",
      "\n",
      "Raport klasyfikacji:\n",
      "              precision    recall  f1-score   support\n",
      "\n",
      "      GALAXY       0.98      0.98      0.98     12538\n",
      "         QSO       0.96      0.93      0.95      3973\n",
      "        STAR       0.98      0.99      0.98      4489\n",
      "\n",
      "    accuracy                           0.97     21000\n",
      "   macro avg       0.97      0.97      0.97     21000\n",
      "weighted avg       0.97      0.97      0.97     21000\n",
      "\n",
      "\n",
      "Confusion matrix:\n",
      "[[12288   142   108]\n",
      " [  275  3697     1]\n",
      " [   30     0  4459]]\n",
      "AUC dla klasy GALAXY: 0.992262090957976\n",
      "Gini dla klasy GALAXY: 0.984524181915952\n",
      " \n",
      "AUC dla klasy QSO: 0.9908781260647446\n",
      "Gini dla klasy QSO: 0.9817562521294891\n",
      " \n",
      "AUC dla klasy STAR: 0.9984388517107998\n",
      "Gini dla klasy STAR: 0.9968777034215996\n",
      " \n",
      "Średni AUC: 0.9938596895778401\n",
      "Gini coefficient: 0.9877193791556802\n"
     ]
    },
    {
     "data": {
      "image/png": "[encoded data removed]",
      "text/plain": [
       "<Figure size 640x480 with 1 Axes>"
      ]
     },
     "metadata": {},
     "output_type": "display_data"
    }
   ],
   "source": [
    "def modify_data_2(df):\n",
    "    \n",
    "    df = df[df['u'] > 0]\n",
    "    df['r+i+z'] = df[['r', 'i', 'z']].sum(axis=1)\n",
    "\n",
    "    # Normalizacja\n",
    "    columns_to_normalize = ['run_ID', 'cam_col', 'spec_obj_ID', 'MJD', 'alpha', 'fiber_ID']\n",
    "    df[columns_to_normalize] = MinMaxScaler().fit_transform(df[columns_to_normalize])\n",
    "\n",
    "    # Standaryzacja\n",
    "    columns_to_standardize = ['delta', 'u', 'g', 'r', 'i', 'z', 'redshift', 'field_ID', 'r+i+z']\n",
    "    df[columns_to_standardize] = StandardScaler().fit_transform(df[columns_to_standardize])\n",
    "\n",
    "    df = df.drop(['rerun_ID', 'obj_ID', 'plate', 'MJD', 'field_ID', 'cam_col'], axis = 1)\n",
    "#     df = df.drop(['r', 'i', 'z'], axis = 1)\n",
    "#     df = df.drop(['r+i+z'], axis = 1)\n",
    "    \n",
    "    return df\n",
    "\n",
    "train2 = modify_data_2(development_unit_df.copy())\n",
    "t2 = modify_data_2(test.copy())\n",
    "\n",
    "# Wykres informacji wzajmenych\n",
    "scores = pd.Series(mutual_info_classif(train2.drop('class', axis = 1), train2['class']),\n",
    "                   index=train2.drop('class', axis = 1).columns).sort_values(ascending=False)\n",
    "sns.barplot(x=scores.values, y=list(scores.index))\n",
    "plt.show()\n",
    "\n",
    "evaluate_model(RandomForestClassifier(n_estimators=100, random_state=42), train2, t2)"
   ]
  },
  {
   "cell_type": "markdown",
   "id": "bea5ecac",
   "metadata": {},
   "source": [
    "## Wyniki:\n",
    "\n",
    "Model 1 - KNeighboursClassifier\\\n",
    "z usuwaniem outlierów: 0.9618095238095238 (accuracy)\\\n",
    "bez usuwana outlierów: 0.9616666666666667 (accuracy)\\\n",
    "Średni AUC: 0.9839795090122149\\\n",
    "Gini coefficient: 0.9679590180244297\n",
    "\n",
    "Model 2 - RandomForestClassifier\\\n",
    "z usuwaniem outlierów: 0.963\\\n",
    "bez usuwana outlierów: 0.9636666666666667\\\n",
    "Średni AUC: 0.9916779524450708\\\n",
    "Gini coefficient: 0.9833559048901417\n",
    "\n",
    "Model 3 xboost\\\n",
    "z usuwaniem outlierów: 0.9556190476190476\\\n",
    "bez usuwana outlierów: 0.9535238095238096\\\n",
    "Średni AUC: 0.9925625585811552\\\n",
    "Gini coefficient: 0.9851251171623103\n",
    "\n",
    "Model 4 Gradient Boosting\\\n",
    "z usuwaniem outlierów: 0.9656666666666667\\\n",
    "bez usuwana outlierów: 0.9657142857142857\\\n",
    "Średni AUC: 0.9921439389167706\\\n",
    "Gini coefficient: 0.9842878778335411\n",
    "\n",
    "Model 5: Regresja logistyczna\\\n",
    "z usuwaniem outlierów: 0.9535238095238096\\\n",
    "bez usuwana outlierów: 0.9532380952380952\\\n",
    "Średni AUC: 0.9879084804170232\\\n",
    "Gini coefficient: 0.9758169608340463\n",
    "\n",
    "Model 6: Model Markova\\\n",
    "z usuwaniem outlierów: 0.9088095238095238\\\n",
    "bez usuwana outlierów: 0.9130952380952381\\\n",
    "Średni AUC: 0.9085411993293854\\\n",
    "Gini coefficient: 0.8170823986587707\n",
    "\n",
    "Model 7 Adaptacyjne drzewa decyzyjne\\\n",
    "z usuwaniem outlierów: 0.8979047619047619\\\n",
    "bez usuwana outlierów: 0.9034761904761904\\\n",
    "Średni AUC: 0.9110128427981916\\\n",
    "Gini coefficient: 0.8220256855963832\n",
    "\n",
    "Model 8 RandomForestClassifier, ramka danych bez 'field_ID', 'cam_col'\\\n",
    "bez usuwana outlierów:\\\n",
    "0.9722857142857143 'r' 'i' 'z'\\\n",
    "0.9726666666666667 'r+i+z'\\\n",
    "**0.9735238095238096 'r' 'i' 'z' 'r+i+z' <-- najlepsze accuracy**\\\n",
    "**Średni AUC: 0.9938596895778401\\ <-- najlepsze AUC**\\\n",
    "**Gini coefficient: 0.9877193791556802 <-- najlepsze Gini**\n",
    "\n",
    "<!---\n",
    "## Wnioski:\n",
    "\n",
    "1) najwyższa dokładność ogólna: knn, randomForest, gradient boosting ~ 0.96\n",
    "\n",
    "\n",
    "2) najwyższa dokładność:\n",
    "\n",
    "\n",
    "        dla Star: randomForest, gradient boosting ~ 0.98\n",
    "        \n",
    "        dla Galaxy: knn ~ 0.97\n",
    "        \n",
    "        dla Quasar: knn, gradient boosting ~ 0.96\n",
    "        \n",
    "        \n",
    "3) najwyższy średni auc: gradient, boosting, xboost, randomForest  ~ 0.99\n",
    "\n",
    "\n",
    "4) najwyższy auc:\n",
    "\n",
    "        dla Star: wszystkie oprócz Markowa i DecisionTreeClassifier ~ 0.99\n",
    "        \n",
    "        dla Galaxy: wszystkie oprócz Markowa i DecisionTreeClassifier ~ 0.99\n",
    "        \n",
    "        dla Quasar: xboost, gradient boosting ~ 0.99\n",
    "\n",
    "najsłabiej sobie radzi Model Markova\n",
    "\n",
    "Decision Tree Classifier bardzo słabo przewiduję klasę STAR, dla każdego innego modelu predykcyjność STAR jest najwyższa, często bliska 100 %\n",
    "-->"
   ]
  },
  {
   "cell_type": "markdown",
   "id": "69479418",
   "metadata": {},
   "source": [
    "## Strojenie hiperparametrów dla wybranych modeli, wybór najlepszego"
   ]
  },
  {
   "cell_type": "markdown",
   "id": "724de8b9",
   "metadata": {},
   "source": [
    "#### Do kolejnej części wybrano te modele, które osiągnęły najlepsze wyniki z standardowymi, niezmienionymi parametrami. Są to:\n",
    "\n",
    "1) Model 8 RandomForestClassifier, ramka danych bez 'field_ID', 'cam_col', z 'r+i+z'\n",
    "\n",
    "2) Model 4 Gradient Boosting\n",
    "\n",
    "3) Model 1 KNeighboursClassifier\n",
    "\n",
    "3) Model 5 Logistic Regression \n",
    "\n",
    "1) Model 3 XGBoost"
   ]
  },
  {
   "cell_type": "markdown",
   "id": "02b21946",
   "metadata": {},
   "source": [
    "## Strojenie hiperpatametrów\n",
    "### Model 8 RandomForestClassifier, ramka danych bez 'field_ID', 'cam_col'"
   ]
  },
  {
   "cell_type": "code",
   "execution_count": 9,
   "id": "68ad7438",
   "metadata": {},
   "outputs": [
    {
     "name": "stdout",
     "output_type": "stream",
     "text": [
      "Fitting 5 folds for each of 108 candidates, totalling 540 fits\n",
      "Najlepsze parametry: {'max_depth': None, 'min_samples_leaf': 1, 'min_samples_split': 10, 'n_estimators': 100}\n",
      "Dokładność: 0.9733809523809523\n",
      "Raport klasyfikacji:\n",
      "              precision    recall  f1-score   support\n",
      "\n",
      "      GALAXY       0.98      0.98      0.98     12538\n",
      "         QSO       0.96      0.93      0.95      3973\n",
      "        STAR       0.98      0.99      0.98      4489\n",
      "\n",
      "    accuracy                           0.97     21000\n",
      "   macro avg       0.97      0.97      0.97     21000\n",
      "weighted avg       0.97      0.97      0.97     21000\n",
      "\n",
      "Confusion Matrix:\n",
      "[[12279   150   109]\n",
      " [  271  3701     1]\n",
      " [   28     0  4461]]\n",
      "AUC dla klasy 'GALAXY': 0.9926237473721579\n",
      "Gini dla klasy 'GALAXY': 0.9852474947443157\n",
      "AUC dla klasy 'QSO': 0.9919325876044934\n",
      "Gini dla klasy 'QSO': 0.9838651752089869\n",
      "AUC dla klasy 'STAR': 0.9983402250353117\n",
      "Gini dla klasy 'STAR': 0.9966804500706234\n",
      "Średnie AUC: 0.994298853337321\n",
      "Średni Gini: 0.988597706674642\n"
     ]
    }
   ],
   "source": [
    "best_rfc, classification_rep_forest, conf_matrix_forest, mean_auc_forest, mean_gini_forest =\\\n",
    "hiperparams_model(RandomForestClassifier(), train2, t2,\n",
    "                   {\n",
    "        'random_state': [42],\n",
    "        'n_estimators': [50, 100, 150],  # Liczba drzew w lesie\n",
    "        'max_depth': [None, 10, 20, 30],  # Maksymalna głębokość drzewa\n",
    "        'min_samples_split': [2, 5, 10],  # Minimalna liczba próbek wymagana do podziału węzła\n",
    "        'min_samples_leaf': [1, 2, 4]  # Minimalna liczba próbek wymagana do utworzenia liścia\n",
    "})"
   ]
  },
  {
   "cell_type": "markdown",
   "id": "da6204ab",
   "metadata": {},
   "source": [
    "### Model 4 Gradient Boosting"
   ]
  },
  {
   "cell_type": "code",
   "execution_count": 10,
   "id": "e742e562",
   "metadata": {},
   "outputs": [
    {
     "name": "stdout",
     "output_type": "stream",
     "text": [
      "Fitting 5 folds for each of 192 candidates, totalling 960 fits\n",
      "Najlepsze parametry: {'learning_rate': 0.1, 'max_depth': 6, 'max_features': 'log2', 'min_samples_leaf': 2, 'min_samples_split': 5, 'n_estimators': 100, 'subsample': 1.0}\n",
      "Dokładność: 0.9728095238095238\n",
      "Raport klasyfikacji:\n",
      "              precision    recall  f1-score   support\n",
      "\n",
      "      GALAXY       0.98      0.98      0.98     12538\n",
      "         QSO       0.96      0.93      0.94      3973\n",
      "        STAR       0.98      0.99      0.98      4489\n",
      "\n",
      "    accuracy                           0.97     21000\n",
      "   macro avg       0.97      0.97      0.97     21000\n",
      "weighted avg       0.97      0.97      0.97     21000\n",
      "\n",
      "Confusion Matrix:\n",
      "[[12272   156   110]\n",
      " [  273  3699     1]\n",
      " [   30     1  4458]]\n",
      "AUC dla klasy 'GALAXY': 0.9929225506622477\n",
      "Gini dla klasy 'GALAXY': 0.9858451013244953\n",
      "AUC dla klasy 'QSO': 0.9933733413526563\n",
      "Gini dla klasy 'QSO': 0.9867466827053126\n",
      "AUC dla klasy 'STAR': 0.9986660303649543\n",
      "Gini dla klasy 'STAR': 0.9973320607299085\n",
      "Średnie AUC: 0.9949873074599527\n",
      "Średni Gini: 0.9899746149199055\n"
     ]
    }
   ],
   "source": [
    "best_gb, classification_rep_forest, conf_matrix_forest, mean_auc_forest, mean_gini_forest =\\\n",
    "hiperparams_model(GradientBoostingClassifier(), train2, t2,\n",
    "                  {\n",
    "        'random_state': [42],\n",
    "        'learning_rate': [0.1, 0.3],  # Współczynnik uczenia\n",
    "        'n_estimators': [50, 100],  # Liczba estymatorów\n",
    "        'max_depth': [3, 6],  # Maksymalna głębokość drzewa\n",
    "        'min_samples_split': [2, 5, 10],  # Minimalna liczba próbek wymagana do podziału węzła\n",
    "        'min_samples_leaf': [1, 2],  # Minimalna liczba próbek wymagana do utworzenia liścia\n",
    "        'subsample': [0.8, 1.0],  # Procent próbek używanych do trenowania każdego estymatora\n",
    "        'max_features': ['sqrt', 'log2']  # Maksymalna liczba cech branych pod uwagę przy podziale węzła\n",
    "    })"
   ]
  },
  {
   "cell_type": "markdown",
   "id": "39fc53fe",
   "metadata": {},
   "source": [
    "### Model 5: Regresja logistyczna"
   ]
  },
  {
   "cell_type": "code",
   "execution_count": 68,
   "id": "9b694790",
   "metadata": {},
   "outputs": [
    {
     "name": "stdout",
     "output_type": "stream",
     "text": [
      "Fitting 5 folds for each of 32 candidates, totalling 160 fits\n",
      "Najlepsze parametry: {'C': 10.0, 'class_weight': None, 'penalty': 'l1', 'solver': 'saga'}\n",
      "Dokładność: 0.9595238095238096\n",
      "Raport klasyfikacji:\n",
      "              precision    recall  f1-score   support\n",
      "\n",
      "      GALAXY       0.96      0.97      0.97     12538\n",
      "         QSO       0.94      0.88      0.91      3973\n",
      "        STAR       0.97      1.00      0.98      4489\n",
      "\n",
      "    accuracy                           0.96     21000\n",
      "   macro avg       0.96      0.95      0.95     21000\n",
      "weighted avg       0.96      0.96      0.96     21000\n",
      "\n",
      "Confusion Matrix:\n",
      "[[12180   204   154]\n",
      " [  487  3485     1]\n",
      " [    0     4  4485]]\n",
      "AUC dla klasy 'GALAXY': 0.9867066184504613\n",
      "Gini dla klasy 'GALAXY': 0.9734132369009225\n",
      "AUC dla klasy 'QSO': 0.9851683127274605\n",
      "Gini dla klasy 'QSO': 0.970336625454921\n",
      "AUC dla klasy 'STAR': 0.9973433805357544\n",
      "Gini dla klasy 'STAR': 0.9946867610715089\n",
      "Średnie AUC: 0.9897394372378922\n",
      "Średni Gini: 0.9794788744757842\n"
     ]
    }
   ],
   "source": [
    "best_rf_clf_forest, classification_rep_forest, conf_matrix_forest, mean_auc_forest, mean_gini_forest =\\\n",
    "hiperparams_model(LogisticRegression(max_iter=1000), train, t,\n",
    "                  {\n",
    "        'random_state': [42],\n",
    "        'C': [0.01, 0.1, 1.0, 10.0],  # Parametr regularyzacji\n",
    "        'penalty': ['l1', 'l2'],  # Rodzaj normy regularyzacji\n",
    "        'solver': ['liblinear', 'saga'],  # Algorytm optymalizacji\n",
    "        'class_weight': [None, 'balanced']  # Wagi klas\n",
    "    })"
   ]
  },
  {
   "cell_type": "markdown",
   "id": "e16cb04d",
   "metadata": {},
   "source": [
    "### Model 3 xboost"
   ]
  },
  {
   "cell_type": "code",
   "execution_count": 69,
   "id": "d9877dfa",
   "metadata": {},
   "outputs": [
    {
     "name": "stdout",
     "output_type": "stream",
     "text": [
      "Fitting 5 folds for each of 48 candidates, totalling 240 fits\n",
      "Najlepsze parametry: {'colsample_bytree': 0.8, 'learning_rate': 0.3, 'max_depth': 6, 'n_estimators': 50, 'subsample': 0.8}\n",
      "Dokładność: 0.9550952380952381\n",
      "Raport klasyfikacji:\n",
      "              precision    recall  f1-score   support\n",
      "\n",
      "      GALAXY       0.95      0.98      0.96     12538\n",
      "         QSO       0.95      0.92      0.94      3973\n",
      "        STAR       0.97      0.92      0.95      4489\n",
      "\n",
      "    accuracy                           0.96     21000\n",
      "   macro avg       0.96      0.94      0.95     21000\n",
      "weighted avg       0.96      0.96      0.95     21000\n",
      "\n",
      "Confusion Matrix:\n",
      "[[12252   177   109]\n",
      " [  302  3670     1]\n",
      " [  354     0  4135]]\n",
      "AUC dla klasy 'GALAXY': 0.9896019056452692\n",
      "Gini dla klasy 'GALAXY': 0.9792038112905384\n",
      "AUC dla klasy 'QSO': 0.9920147922184146\n",
      "Gini dla klasy 'QSO': 0.9840295844368292\n",
      "AUC dla klasy 'STAR': 0.9971977139281063\n",
      "Gini dla klasy 'STAR': 0.9943954278562126\n",
      "Średnie AUC: 0.99293813726393\n",
      "Średni Gini: 0.9858762745278601\n"
     ]
    }
   ],
   "source": [
    "best_rf_clf_forest, classification_rep_forest, conf_matrix_forest, mean_auc_forest, mean_gini_forest =\\\n",
    "hiperparams_model(XGBClassifier(), train, t,\n",
    "                  {\n",
    "        'random_state': [42],\n",
    "        'max_depth': [3, 6, 9],  # Maksymalna głębokość drzewa\n",
    "        'learning_rate': [0.1, 0.3],  # Współczynnik uczenia\n",
    "        'n_estimators': [50, 100],  # Liczba drzew\n",
    "        'subsample': [0.8, 1.0],  # Procent próbek używanych do trenowania każdego drzewa\n",
    "        'colsample_bytree': [0.8, 1.0],  # Procent kolumn używanych do trenowania każdego drzewa\n",
    "    })"
   ]
  },
  {
   "cell_type": "markdown",
   "id": "8c584114",
   "metadata": {},
   "source": [
    "### Ensemble model - połączenie forest, xgb oraz regression"
   ]
  },
  {
   "cell_type": "code",
   "execution_count": 98,
   "id": "63757d24",
   "metadata": {},
   "outputs": [
    {
     "name": "stdout",
     "output_type": "stream",
     "text": [
      "Dokładność: 0.9723809523809523\n",
      "Raport klasyfikacji:\n",
      "              precision    recall  f1-score   support\n",
      "\n",
      "      GALAXY       0.97      0.98      0.98     12538\n",
      "         QSO       0.96      0.93      0.94      3973\n",
      "        STAR       0.98      0.99      0.98      4489\n",
      "\n",
      "    accuracy                           0.97     21000\n",
      "   macro avg       0.97      0.97      0.97     21000\n",
      "weighted avg       0.97      0.97      0.97     21000\n",
      "\n",
      "Confusion Matrix:\n",
      "[[12299   133   106]\n",
      " [  294  3678     1]\n",
      " [   44     2  4443]]\n"
     ]
    }
   ],
   "source": [
    "# Definicja modelu ensemble\n",
    "ensemble_model = VotingClassifier(estimators=[\n",
    "    ('xgb', best_gb),\n",
    "    ('rf', best_rfc)\n",
    "], voting='hard')\n",
    "\n",
    "ensemble_model, accuracy, classification_rep, conf_matrix =\\\n",
    "ensemble_model_function(ensemble_model, train2, t2)"
   ]
  },
  {
   "cell_type": "markdown",
   "id": "89bda765",
   "metadata": {},
   "source": [
    "## Walidacja krzyżowa"
   ]
  },
  {
   "cell_type": "code",
   "execution_count": 10,
   "id": "452c4dc7",
   "metadata": {},
   "outputs": [],
   "source": [
    "X = pd.concat([train, t])\n",
    "y = X['class']\n",
    "X = X.drop('class', axis=1)\n",
    "\n",
    "X2 = pd.concat([train2, t2])\n",
    "y2 = X2['class']\n",
    "X2 = X2.drop('class', axis=1)"
   ]
  },
  {
   "cell_type": "code",
   "execution_count": 72,
   "id": "1fde558f",
   "metadata": {},
   "outputs": [
    {
     "name": "stdout",
     "output_type": "stream",
     "text": [
      "[0.96114286 0.95907143 0.96257143 0.96064286 0.96264286]\n",
      "0.96 accuracy with a standard deviation of 0.00\n"
     ]
    }
   ],
   "source": [
    "# KNeighborsClassifier\n",
    "scores = cross_val_score(KNeighborsClassifier(), X, y, cv=5)\n",
    "print(scores)\n",
    "print(f\"{scores.mean()} accuracy with a standard deviation of {scores.std()}\")"
   ]
  },
  {
   "cell_type": "code",
   "execution_count": 74,
   "id": "953b629d",
   "metadata": {},
   "outputs": [
    {
     "name": "stdout",
     "output_type": "stream",
     "text": [
      "[0.97692857 0.97742857 0.97735714 0.977      0.97657143]\n",
      "0.98 accuracy with a standard deviation of 0.00\n"
     ]
    }
   ],
   "source": [
    "# GradientBoostingClassifier\n",
    "scores = cross_val_score(best_gb, X2, y2, cv=5)\n",
    "print(scores)\n",
    "print(f\"{scores.mean()} accuracy with a standard deviation of {scores.std()}\")"
   ]
  },
  {
   "cell_type": "code",
   "execution_count": 94,
   "id": "7b072d7d",
   "metadata": {},
   "outputs": [
    {
     "name": "stdout",
     "output_type": "stream",
     "text": [
      "[0.97671429 0.9745     0.97571429 0.97535714 0.97435714]\n",
      "0.9753285714285713 accuracy with a standard deviation of 0.0008602325267042841\n"
     ]
    }
   ],
   "source": [
    "# RandomForestClassifier\n",
    "cores = cross_val_score(best_rfc, X2, y2, cv=5)\n",
    "print(scores)\n",
    "print(f\"{scores.mean()} accuracy with a standard deviation of {scores.std()}\")"
   ]
  },
  {
   "cell_type": "code",
   "execution_count": 99,
   "id": "6a061818",
   "metadata": {},
   "outputs": [
    {
     "name": "stdout",
     "output_type": "stream",
     "text": [
      "[0.97764286 0.97785714 0.97771429 0.97764286 0.97578571]\n",
      "0.9773285714285713 accuracy with a standard deviation of 0.0007753866711492704\n"
     ]
    }
   ],
   "source": [
    "# ensemble_model\n",
    "scores = cross_val_score(ensemble_model, X2, y2, cv=5)\n",
    "print(scores)\n",
    "print(f\"{scores.mean()} accuracy with a standard deviation of {scores.std()}\")"
   ]
  },
  {
   "cell_type": "markdown",
   "id": "9ad70c4d",
   "metadata": {},
   "source": [
    "## Wyniki testowania\n",
    "\n",
    "Najlepiej sprawował się model \n",
    "\n",
    "**Model 8 RandomForestClassifier** \n",
    "\n",
    "na **danych**\n",
    "\n",
    "po odrzuceniu wiersza, dla którego u < 0,\n",
    "\n",
    "bez kolumn: rerun_ID, obj_ID, plate, MJD, field_ID, cam_col,\n",
    "\n",
    "z utworzoną kolumną r+i+z,\n",
    "\n",
    "ze znormalizowanymi kolumnami: 'spec_obj_ID', 'alpha', 'fiber_ID',\n",
    "\n",
    "i zestandardyzowanymi: 'delta', 'u', 'g', 'r', 'i', 'z', 'redshift', 'r+i+z'.\n",
    "\n",
    "**Najlepsze hiperparametry**:\n",
    "\n",
    "{'max_depth': 20, 'min_samples_leaf': 1, 'min_samples_split': 2, 'n_estimators': 150}\n",
    "\n",
    "Model został zwalidowany między innymi walidacją krzyżową. Jego wyniki są następujące:\n",
    "\n",
    "**accuracy**: 0.973\n",
    "\n",
    "**AUC**: 0.994\n",
    "\n",
    "**GINI**: 0.989\n",
    "\n",
    "i \n",
    "\n",
    "**Model 4 GradientBoostingClassifier** \n",
    "\n",
    "na **danych**\n",
    "\n",
    "po odrzuceniu wiersza, dla którego u < 0,\n",
    "\n",
    "bez kolumn: rerun_ID, obj_ID, plate, MJD, field_ID, cam_col,\n",
    "\n",
    "z utworzoną kolumną r+i+z,\n",
    "\n",
    "ze znormalizowanymi kolumnami: 'spec_obj_ID', 'alpha', 'fiber_ID',\n",
    "\n",
    "i zestandardyzowanymi: 'delta', 'u', 'g', 'r', 'i', 'z', 'redshift', 'r+i+z'.\n",
    "\n",
    "**Najlepsze hiperparametry**:\n",
    "\n",
    "{'learning_rate': 0.1, 'max_depth': 6, 'max_features': 'sqrt', 'min_samples_leaf': 2, 'min_samples_split': 10, 'n_estimators': 100, 'subsample': 0.8}\n",
    "\n",
    "Model został zwalidowany między innymi walidacją krzyżową. Jego wyniki są następujące:\n",
    "\n",
    "**accuracy**: 0.973\n",
    "\n",
    "**AUC**: 0.995\n",
    "\n",
    "**GINI**: 0.989\n",
    "\n",
    "i\n",
    "\n",
    "**model ensemble**\n",
    "\n",
    "będący połączeniem dwóch poprzednich modeli o **średniej dokładności** 0.972.\n",
    "\n",
    "Funkcja ustalająca najlepsze hiperparametry używa kroswalidacji."
   ]
  },
  {
   "cell_type": "markdown",
   "id": "48a0ccd1",
   "metadata": {},
   "source": [
    "## Ostateczne dostrajanie hiperparametrów dla Model 4 RandomForestClassifier\n",
    "Po przeanalizowaniu wyników testu trzech wyłonionych kandydatów miało bardzo podobny wynik, a minimalne różnice mogą wynikać z losowości metod używanych przez rozpatrywane modele.\n",
    "Ostatecznie został wybrany **Model 4 GradientBoostingClassifier**.\n",
    "Poniżej jest ostateczne testowanie metodą grid search z parametrami użytymi we wcześniejszej wersji tego modelu, jak i kilkoma nowymi."
   ]
  },
  {
   "cell_type": "code",
   "execution_count": 8,
   "id": "4e0386ce",
   "metadata": {},
   "outputs": [
    {
     "name": "stdout",
     "output_type": "stream",
     "text": [
      "Fitting 5 folds for each of 32 candidates, totalling 160 fits\n",
      "Najlepsze parametry: {'learning_rate': 0.1, 'max_depth': 12, 'max_features': None, 'min_samples_leaf': 4, 'min_samples_split': 16, 'n_estimators': 100, 'random_state': 42, 'subsample': 0.6}\n",
      "Dokładność: 0.9687142857142857\n",
      "Raport klasyfikacji:\n",
      "              precision    recall  f1-score   support\n",
      "\n",
      "      GALAXY       0.97      0.98      0.97     12538\n",
      "         QSO       0.96      0.94      0.95      3973\n",
      "        STAR       0.98      0.97      0.97      4489\n",
      "\n",
      "    accuracy                           0.97     21000\n",
      "   macro avg       0.97      0.96      0.96     21000\n",
      "weighted avg       0.97      0.97      0.97     21000\n",
      "\n",
      "Confusion Matrix:\n",
      "[[12275   154   109]\n",
      " [  250  3722     1]\n",
      " [  143     0  4346]]\n",
      "AUC dla klasy 'GALAXY': 0.9904475975638644\n",
      "Gini dla klasy 'GALAXY': 0.9808951951277287\n",
      "AUC dla klasy 'QSO': 0.9907759652866812\n",
      "Gini dla klasy 'QSO': 0.9815519305733624\n",
      "AUC dla klasy 'STAR': 0.997143725604992\n",
      "Gini dla klasy 'STAR': 0.994287451209984\n",
      "Średnie AUC: 0.9927890961518459\n",
      "Średni Gini: 0.9855781923036918\n"
     ]
    }
   ],
   "source": [
    "best_gb, classification_rep_forest, conf_matrix_forest, mean_auc_forest, mean_gini_forest =\\\n",
    "hiperparams_model(GradientBoostingClassifier(), train2, t2,\n",
    "                  {\n",
    "#             'loss': 'log_loss', #{‘log_loss’, ‘exponential’}, default=’log_loss’\n",
    "            'learning_rate': [0.1],#float, default=0.1\n",
    "            'n_estimators': [100],#int, default=100\n",
    "            'subsample': [0.8, 0.6],#float, default=1.0\n",
    "#             'criterion': 'friedman_mse',#{‘friedman_mse’, ‘squared_error’}, default=’friedman_mse’\n",
    "            'min_samples_split': [10, 16],#int or float, default=2\n",
    "            'min_samples_leaf': [2, 4],#int or float, default=1\n",
    "#             'min_weight_fraction_leaf': 0.0, #float, default=0.0\n",
    "            'max_depth': [6, 12],#int or None, default=3\n",
    "#             'min_impurity_decrease': 0.0,#float, default=0.0\n",
    "#             'init': None,#estimator or ‘zero’, default=None\n",
    "            'random_state': [42],#int, RandomState instance or None, default=None\n",
    "            'max_features': [None, 'sqrt'],#{‘sqrt’, ‘log2’}, int or float, default=None\n",
    "#             'verbose': 0,#int, default=0\n",
    "#             'max_leaf_nodes': [None],#int, default=None\n",
    "#             'warm_start': False,#bool, default=False\n",
    "#             'validation_fraction': 0.1,#float, default=0.1\n",
    "#             'n_iter_no_change': None,#int, default=None\n",
    "#             'tol': 1e-4,#float, default=1e-4\n",
    "#             'ccp_alpha': 0.0#non-negative float, default=0.0\n",
    "    })"
   ]
  },
  {
   "cell_type": "code",
   "execution_count": 11,
   "id": "e93602a1",
   "metadata": {},
   "outputs": [
    {
     "name": "stdout",
     "output_type": "stream",
     "text": [
      "[0.98007143 0.97778571 0.97978571 0.97864286 0.98014286]\n",
      "0.9792857142857143 accuracy with a standard deviation of 0.0009236131357282637\n"
     ]
    }
   ],
   "source": [
    "# Walidacja krzyżowa\n",
    "scores = cross_val_score(best_gb, X2, y2, cv=5)\n",
    "print(scores)\n",
    "print(f\"{scores.mean()} accuracy with a standard deviation of {scores.std()}\")"
   ]
  },
  {
   "cell_type": "code",
   "execution_count": 26,
   "id": "38b3af1e",
   "metadata": {},
   "outputs": [
    {
     "name": "stdout",
     "output_type": "stream",
     "text": [
      "Dla: GradientBoostingClassifier(learning_rate= 0.1, max_depth= 6, max_features= \"sqrt\", min_samples_leaf= 2, min_samples_split=10, n_estimators= 100, subsample= 0.8)\n",
      "Testowania na danych trenujących\n",
      "Dokładność całkowita (Accuracy): 0.9864897959183674\n",
      "\n",
      "Raport klasyfikacji:\n",
      "              precision    recall  f1-score   support\n",
      "\n",
      "      GALAXY       0.98      0.99      0.99     29062\n",
      "         QSO       0.98      0.95      0.97      9288\n",
      "        STAR       1.00      1.00      1.00     10650\n",
      "\n",
      "    accuracy                           0.99     49000\n",
      "   macro avg       0.99      0.98      0.98     49000\n",
      "weighted avg       0.99      0.99      0.99     49000\n",
      "\n",
      "Testowania na danych walidacyjnych\n",
      "Dokładność całkowita (Accuracy): 0.9724761904761905\n",
      "\n",
      "Raport klasyfikacji:\n",
      "              precision    recall  f1-score   support\n",
      "\n",
      "      GALAXY       0.97      0.98      0.98     12538\n",
      "         QSO       0.96      0.93      0.95      3973\n",
      "        STAR       0.98      0.99      0.98      4489\n",
      "\n",
      "    accuracy                           0.97     21000\n",
      "   macro avg       0.97      0.97      0.97     21000\n",
      "weighted avg       0.97      0.97      0.97     21000\n",
      "\n",
      "Różnica: 0.01401360544217689\n"
     ]
    }
   ],
   "source": [
    "best_gb=GradientBoostingClassifier(learning_rate= 0.1, max_depth= 6, max_features= 'sqrt',\n",
    "                                   min_samples_leaf= 2, min_samples_split=10, n_estimators= 100, subsample= 0.8)\n",
    "best_gb.fit(train2.drop('class', axis=1), train2['class'])\n",
    "print(f'Dla: GradientBoostingClassifier(learning_rate= 0.1, max_depth= 6, max_features= \"sqrt\", min_samples_leaf= 2, min_samples_split=10, n_estimators= 100, subsample= 0.8)')\n",
    "print('Testowania na danych trenujących')\n",
    "test_predictions1 = best_gb.predict(train2.drop('class', axis=1))\n",
    "accuracy1 = accuracy_fun(train2['class'], test_predictions1)\n",
    "raport(train2['class'], test_predictions1)\n",
    "print('Testowania na danych walidacyjnych')\n",
    "test_predictions2 = best_gb.predict(t2.drop('class', axis=1))\n",
    "accuracy2 = accuracy_fun(t2['class'], test_predictions2)\n",
    "raport(t2['class'], test_predictions2)\n",
    "print(f'Różnica: {abs(accuracy1-accuracy2)}')"
   ]
  },
  {
   "cell_type": "code",
   "execution_count": 27,
   "id": "56802bd0",
   "metadata": {},
   "outputs": [
    {
     "name": "stdout",
     "output_type": "stream",
     "text": [
      "Dla: GradientBoostingClassifier(max_depth=12, min_samples_leaf=4,min_samples_split=16, random_state=42,subsample=0.6)\n",
      "Testowania na danych trenujących\n",
      "Dokładność całkowita (Accuracy): 0.9998775510204082\n",
      "\n",
      "Raport klasyfikacji:\n",
      "              precision    recall  f1-score   support\n",
      "\n",
      "      GALAXY       1.00      1.00      1.00     29062\n",
      "         QSO       1.00      1.00      1.00      9288\n",
      "        STAR       1.00      1.00      1.00     10650\n",
      "\n",
      "    accuracy                           1.00     49000\n",
      "   macro avg       1.00      1.00      1.00     49000\n",
      "weighted avg       1.00      1.00      1.00     49000\n",
      "\n",
      "Testowania na danych walidacyjnych\n",
      "Dokładność całkowita (Accuracy): 0.9687142857142857\n",
      "\n",
      "Raport klasyfikacji:\n",
      "              precision    recall  f1-score   support\n",
      "\n",
      "      GALAXY       0.97      0.98      0.97     12538\n",
      "         QSO       0.96      0.94      0.95      3973\n",
      "        STAR       0.98      0.97      0.97      4489\n",
      "\n",
      "    accuracy                           0.97     21000\n",
      "   macro avg       0.97      0.96      0.96     21000\n",
      "weighted avg       0.97      0.97      0.97     21000\n",
      "\n",
      "Różnica: 0.031163265306122456\n"
     ]
    }
   ],
   "source": [
    "best_gb=GradientBoostingClassifier(max_depth=12, min_samples_leaf=4,\n",
    "                           min_samples_split=16, random_state=42,\n",
    "                           subsample=0.6)\n",
    "best_gb.fit(train2.drop('class', axis=1), train2['class'])\n",
    "print(f'Dla: GradientBoostingClassifier(max_depth=12, min_samples_leaf=4,min_samples_split=16, random_state=42,subsample=0.6)')\n",
    "print('Testowania na danych trenujących')\n",
    "test_predictions1 = best_gb.predict(train2.drop('class', axis=1))\n",
    "accuracy1 = accuracy_fun(train2['class'], test_predictions1)\n",
    "raport(train2['class'], test_predictions1)\n",
    "print('Testowania na danych walidacyjnych')\n",
    "test_predictions2 = best_gb.predict(t2.drop('class', axis=1))\n",
    "accuracy2 = accuracy_fun(t2['class'], test_predictions2)\n",
    "raport(t2['class'], test_predictions2)\n",
    "print(f'Różnica: {abs(accuracy1-accuracy2)}')"
   ]
  },
  {
   "cell_type": "markdown",
   "id": "869355dc",
   "metadata": {},
   "source": [
    "Nowy model GradientBoostingClassifier uzyskuje lepsze wyniki według dodatkokwo przeprowadzonej kroswalidacji, jednak ten wynik jest zawyżony i model jest bardziej wrażliwy na przetrenowanie, niż jego poprzednik. Zatem Ostatecznie zostaje wybrany GradientBoostingClassifier opisany poniżej.\n",
    "\n",
    "## Ostatecznie wybrany model:\n",
    "\n",
    "**Model 4 GradientBoostingClassifier** \n",
    "\n",
    "na **danych**\n",
    "\n",
    "po odrzuceniu wiersza, dla którego u < 0,\n",
    "\n",
    "bez kolumn: rerun_ID, obj_ID, plate, MJD, field_ID, cam_col,\n",
    "\n",
    "z utworzoną kolumną r+i+z,\n",
    "\n",
    "ze znormalizowanymi kolumnami: 'spec_obj_ID', 'alpha', 'fiber_ID',\n",
    "\n",
    "i zestandardyzowanymi: 'delta', 'u', 'g', 'r', 'i', 'z', 'redshift', 'r+i+z'.\n",
    "\n",
    "Warto zauważyć, że kierowanie się takimi cechami jak numery identyfikacyjne z reguły nie jest dobrym wyjściem, bo takie wartości są nadawane obiektom arbitrlanie w celu ich rozróżniania.\n",
    "\n",
    "W naszym przypadku jednak numery identyfikacyjne cechują się znaczącym pozytywnym wpływem na predykcyjność modeli, co może wynikać ze sposobu budowania ramki danych, np. z sekwencyjnie zbieranych danych na temat podobnych obiektów wynikają sekwencyjne numery identyfikacyjne, które się odnoszą do tych obiektów.\n",
    "\n",
    "Także zdecydowaliśmy się uwzględnić numery identyfikacyjne jako cechy służące do predykcji. Za politykę biznesową przyjęliśmy dokładne przewidywanie obiektów astralnych zawartych tylko w danej ramce danych, a zatem dane do trenowania, jak i ostateczne dane służące do predykcji u klienta, mają z założenia tę samą strukturę.\n",
    "\n",
    "**Najlepsze hiperparametry**:\n",
    "\n",
    "{'learning_rate': 0.1, 'max_depth': 6, 'max_features': 'sqrt', 'min_samples_leaf': 2, 'min_samples_split': 10, 'n_estimators': 100, 'subsample': 0.8}\n",
    "\n",
    "Model został zwalidowany między innymi walidacją krzyżową oraz za pomocą niezależnej próbki danych. Jego wyniki są następujące:\n",
    "\n",
    "**accuracy**: 0.972\n",
    "\n",
    "**AUC**: 0.995\n",
    "\n",
    "**GINI**: 0.989"
   ]
  }
 ],
 "metadata": {
  "kernelspec": {
   "display_name": "Python 3 (ipykernel)",
   "language": "python",
   "name": "python3"
  },
  "language_info": {
   "codemirror_mode": {
    "name": "ipython",
    "version": 3
   },
   "file_extension": ".py",
   "mimetype": "text/x-python",
   "name": "python",
   "nbconvert_exporter": "python",
   "pygments_lexer": "ipython3",
   "version": "3.11.5"
  }
 },
 "nbformat": 4,
 "nbformat_minor": 5
}
