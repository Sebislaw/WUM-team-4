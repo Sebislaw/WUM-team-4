{
 "cells": [
  {
   "cell_type": "markdown",
   "id": "9362a3c1",
   "metadata": {},
   "source": [
    "## CZĘŚĆ 3: MODELOWANIE"
   ]
  },
  {
   "cell_type": "markdown",
   "id": "7e24e600",
   "metadata": {},
   "source": [
    "1. Wczytanie danych, obróbka danych zgodnie z feature engineering"
   ]
  },
  {
   "cell_type": "code",
   "execution_count": 24,
   "id": "e6b531c6",
   "metadata": {},
   "outputs": [],
   "source": [
    "import pandas as pd\n",
    "import numpy as np\n",
    "import matplotlib.pyplot as plt\n",
    "import matplotlib\n",
    "import seaborn as sns\n",
    "import sklearn \n",
    "\n",
    "from imblearn.over_sampling import SMOTE\n",
    "from sklearn.model_selection import train_test_split\n",
    "from sklearn.preprocessing import MinMaxScaler, StandardScaler\n",
    "from sklearn.feature_selection import mutual_info_classif\n",
    "from sklearn.preprocessing import OneHotEncoder\n",
    "from sklearn.multioutput import ClassifierChain\n",
    "from sklearn.metrics import accuracy_score, classification_report, confusion_matrix, roc_curve, auc, roc_auc_score\n",
    "from sklearn.multiclass import OneVsRestClassifier\n",
    "from sklearn.preprocessing import LabelBinarizer"
   ]
  },
  {
   "cell_type": "code",
   "execution_count": 3,
   "id": "e03182bd",
   "metadata": {},
   "outputs": [],
   "source": [
    "# Wczytanie danych - dane do trenowania modelu\n",
    "development_unit_df = pd.read_csv(\".\\\\dane\\\\training_sample_team4.csv\")\n",
    "\n",
    "## Ramka danych walidacyjna dla zespołu budującego\n",
    "test = pd.read_csv(\".\\\\dane\\\\validation_sample_team4.csv\")"
   ]
  },
  {
   "cell_type": "code",
   "execution_count": 4,
   "id": "1eb93d9b",
   "metadata": {},
   "outputs": [],
   "source": [
    "scaler = MinMaxScaler()\n",
    "standard = StandardScaler()"
   ]
  },
  {
   "cell_type": "markdown",
   "id": "85aefaef",
   "metadata": {},
   "source": [
    "zgodnie z wskazówkami, outliery zostały zastąpione wartościami granicznymi"
   ]
  },
  {
   "cell_type": "code",
   "execution_count": 5,
   "id": "6f6aee27",
   "metadata": {},
   "outputs": [],
   "source": [
    "def handle_outliers(df):\n",
    "    columns_to_be_checked = ['r', 'u', 'i', 'z', 'g']\n",
    "    \n",
    "    df = df[df['u'] > 0]\n",
    "\n",
    "    for i in range(len(columns_to_be_checked)):\n",
    "        column = df[columns_to_be_checked[i]]\n",
    "        Q1 = column.quantile(0.25)\n",
    "        Q3 = column.quantile(0.75)\n",
    "\n",
    "        IQR = Q3 - Q1\n",
    "\n",
    "        lower_bound = Q1 - 1.5 * IQR\n",
    "        upper_bound = Q3 + 1.5 * IQR\n",
    "\n",
    "        outliers = (column < lower_bound) | (column > upper_bound)\n",
    "\n",
    "        outliers_count = outliers.sum()\n",
    "\n",
    "        outliers_percentage = outliers.mean() * 100\n",
    "        \n",
    "        # Zastąpienie outlierów wartościami równymi Q1 - 1.5 * IQR lub Q3 + 1.5 * IQR\n",
    "        df.loc[outliers, columns_to_be_checked[i]] = np.where(column[outliers] < lower_bound, lower_bound, upper_bound)\n",
    "\n",
    "        ##print(\"Ilość outlierów dla kolumny \", columns_to_be_checked[i], \": \", outliers_count)\n",
    "        ##print(\"Procentowy udział outlierów dla kolumny \", columns_to_be_checked[i], \": \", outliers_percentage)\n",
    "\n",
    "    return df"
   ]
  },
  {
   "cell_type": "code",
   "execution_count": 6,
   "id": "6564a36c",
   "metadata": {},
   "outputs": [],
   "source": [
    "df = handle_outliers(development_unit_df)\n",
    "test = handle_outliers(test)"
   ]
  },
  {
   "cell_type": "markdown",
   "id": "bd3eab00",
   "metadata": {},
   "source": [
    "dla przypomnienia:\n",
    "###### usunięto kolumny silnie skorelowane\n",
    "###### filtry w kolorze czerwieni zostały zsumowane i zawarte w jednej, nowej kolumnie (r + i + z)\n",
    "###### końcowo, do tworzenia modeli użyto kolumn związanych z filtrami oraz kolumnę 'redshift' - uznano, że wszystkie zmienne związane z id lub z położeniem obiektów (kąty alpha i delta) nie wpływają na efektywność modelu\n",
    "###### kolumny zostały zestandaryzowane i/lub znormalizowane\n"
   ]
  },
  {
   "cell_type": "code",
   "execution_count": 7,
   "id": "35d7eff4",
   "metadata": {},
   "outputs": [],
   "source": [
    "def modify_data(df):\n",
    "    df = df.loc[:, df.columns != 'rerun_ID']\n",
    "    df = df.loc[:, df.columns != 'obj_ID']\n",
    "    df = df.loc[:, df.columns != 'plate']\n",
    "    \n",
    "    df['r+i+z'] = df[['r', 'i', 'z']].sum(axis=1)\n",
    "\n",
    "    # Normalizacja\n",
    "    columns_to_normalize = ['run_ID', 'cam_col', 'spec_obj_ID', 'MJD', 'alpha', 'fiber_ID']\n",
    "    df[columns_to_normalize] = scaler.fit_transform(df[columns_to_normalize])\n",
    "\n",
    "    # Standaryzacja\n",
    "    columns_to_standardize = ['delta', 'u', 'g', 'r', 'i', 'z', 'redshift', 'field_ID', 'r+i+z']\n",
    "    df[columns_to_standardize] = standard.fit_transform(df[columns_to_standardize])\n",
    "\n",
    "    # Usuwanie kolumn\n",
    "    df = df.drop(['MJD'], axis = 1)\n",
    "    df = df.drop(['r', 'i', 'z'], axis = 1)\n",
    "\n",
    "    # Odrzucenie cech na podstawie interpretacji ich znaczenia\n",
    "    df = df.drop(['spec_obj_ID'], axis = 1) # numer obiektu\n",
    "    df = df.drop(['alpha'], axis = 1) # współrzędne astronomiczne\n",
    "    df = df.drop(['delta'], axis = 1) # współrzędne astronomiczne\n",
    "    df = df.drop(['field_ID'], axis = 1) # numer pola ze zdjęcia (fragment zdjęcia)\n",
    "    df = df.drop(['cam_col'], axis = 1) # numer kolumny ze zdjęcia (fragment zdjęcia)\n",
    "    df = df.drop(['run_ID'], axis = 1) # numer zdjęcia\n",
    "    df = df.drop(['fiber_ID'], axis = 1) # numer włókna, które skierowało światło na płaszczyznę ogniskową\n",
    "    \n",
    "    return df"
   ]
  },
  {
   "cell_type": "code",
   "execution_count": 8,
   "id": "8e9864d5",
   "metadata": {},
   "outputs": [],
   "source": [
    "df = modify_data(development_unit_df)"
   ]
  },
  {
   "cell_type": "code",
   "execution_count": 9,
   "id": "533025a4",
   "metadata": {},
   "outputs": [
    {
     "data": {
      "text/html": [
       "<div>\n",
       "<style scoped>\n",
       "    .dataframe tbody tr th:only-of-type {\n",
       "        vertical-align: middle;\n",
       "    }\n",
       "\n",
       "    .dataframe tbody tr th {\n",
       "        vertical-align: top;\n",
       "    }\n",
       "\n",
       "    .dataframe thead th {\n",
       "        text-align: right;\n",
       "    }\n",
       "</style>\n",
       "<table border=\"1\" class=\"dataframe\">\n",
       "  <thead>\n",
       "    <tr style=\"text-align: right;\">\n",
       "      <th></th>\n",
       "      <th>u</th>\n",
       "      <th>g</th>\n",
       "      <th>class</th>\n",
       "      <th>redshift</th>\n",
       "      <th>r+i+z</th>\n",
       "    </tr>\n",
       "  </thead>\n",
       "  <tbody>\n",
       "    <tr>\n",
       "      <th>0</th>\n",
       "      <td>0.678738</td>\n",
       "      <td>0.564729</td>\n",
       "      <td>QSO</td>\n",
       "      <td>2.408604</td>\n",
       "      <td>1.427677</td>\n",
       "    </tr>\n",
       "    <tr>\n",
       "      <th>1</th>\n",
       "      <td>-1.548889</td>\n",
       "      <td>-1.533804</td>\n",
       "      <td>GALAXY</td>\n",
       "      <td>-0.730359</td>\n",
       "      <td>-1.239177</td>\n",
       "    </tr>\n",
       "    <tr>\n",
       "      <th>2</th>\n",
       "      <td>-1.744904</td>\n",
       "      <td>-2.029105</td>\n",
       "      <td>STAR</td>\n",
       "      <td>-0.790164</td>\n",
       "      <td>-2.116429</td>\n",
       "    </tr>\n",
       "    <tr>\n",
       "      <th>3</th>\n",
       "      <td>-1.006758</td>\n",
       "      <td>-1.066027</td>\n",
       "      <td>GALAXY</td>\n",
       "      <td>-0.677478</td>\n",
       "      <td>-0.936643</td>\n",
       "    </tr>\n",
       "    <tr>\n",
       "      <th>4</th>\n",
       "      <td>-1.228689</td>\n",
       "      <td>-1.217197</td>\n",
       "      <td>GALAXY</td>\n",
       "      <td>-0.705030</td>\n",
       "      <td>-0.941500</td>\n",
       "    </tr>\n",
       "  </tbody>\n",
       "</table>\n",
       "</div>"
      ],
      "text/plain": [
       "          u         g   class  redshift     r+i+z\n",
       "0  0.678738  0.564729     QSO  2.408604  1.427677\n",
       "1 -1.548889 -1.533804  GALAXY -0.730359 -1.239177\n",
       "2 -1.744904 -2.029105    STAR -0.790164 -2.116429\n",
       "3 -1.006758 -1.066027  GALAXY -0.677478 -0.936643\n",
       "4 -1.228689 -1.217197  GALAXY -0.705030 -0.941500"
      ]
     },
     "execution_count": 9,
     "metadata": {},
     "output_type": "execute_result"
    }
   ],
   "source": [
    "df.head()"
   ]
  },
  {
   "cell_type": "code",
   "execution_count": 10,
   "id": "41716ab3",
   "metadata": {},
   "outputs": [],
   "source": [
    "test = modify_data(test)"
   ]
  },
  {
   "cell_type": "code",
   "execution_count": 11,
   "id": "f1191141",
   "metadata": {},
   "outputs": [
    {
     "data": {
      "text/html": [
       "<div>\n",
       "<style scoped>\n",
       "    .dataframe tbody tr th:only-of-type {\n",
       "        vertical-align: middle;\n",
       "    }\n",
       "\n",
       "    .dataframe tbody tr th {\n",
       "        vertical-align: top;\n",
       "    }\n",
       "\n",
       "    .dataframe thead th {\n",
       "        text-align: right;\n",
       "    }\n",
       "</style>\n",
       "<table border=\"1\" class=\"dataframe\">\n",
       "  <thead>\n",
       "    <tr style=\"text-align: right;\">\n",
       "      <th></th>\n",
       "      <th>u</th>\n",
       "      <th>g</th>\n",
       "      <th>class</th>\n",
       "      <th>redshift</th>\n",
       "      <th>r+i+z</th>\n",
       "    </tr>\n",
       "  </thead>\n",
       "  <tbody>\n",
       "    <tr>\n",
       "      <th>0</th>\n",
       "      <td>0.695839</td>\n",
       "      <td>0.356947</td>\n",
       "      <td>QSO</td>\n",
       "      <td>2.206901</td>\n",
       "      <td>1.031172</td>\n",
       "    </tr>\n",
       "    <tr>\n",
       "      <th>1</th>\n",
       "      <td>0.181778</td>\n",
       "      <td>0.253523</td>\n",
       "      <td>GALAXY</td>\n",
       "      <td>-0.706093</td>\n",
       "      <td>0.985689</td>\n",
       "    </tr>\n",
       "    <tr>\n",
       "      <th>2</th>\n",
       "      <td>-0.366130</td>\n",
       "      <td>0.220645</td>\n",
       "      <td>QSO</td>\n",
       "      <td>2.013251</td>\n",
       "      <td>0.860169</td>\n",
       "    </tr>\n",
       "    <tr>\n",
       "      <th>3</th>\n",
       "      <td>0.756569</td>\n",
       "      <td>0.622013</td>\n",
       "      <td>STAR</td>\n",
       "      <td>-0.786839</td>\n",
       "      <td>-0.020183</td>\n",
       "    </tr>\n",
       "    <tr>\n",
       "      <th>4</th>\n",
       "      <td>0.764057</td>\n",
       "      <td>0.794126</td>\n",
       "      <td>GALAXY</td>\n",
       "      <td>-0.010139</td>\n",
       "      <td>0.314667</td>\n",
       "    </tr>\n",
       "  </tbody>\n",
       "</table>\n",
       "</div>"
      ],
      "text/plain": [
       "          u         g   class  redshift     r+i+z\n",
       "0  0.695839  0.356947     QSO  2.206901  1.031172\n",
       "1  0.181778  0.253523  GALAXY -0.706093  0.985689\n",
       "2 -0.366130  0.220645     QSO  2.013251  0.860169\n",
       "3  0.756569  0.622013    STAR -0.786839 -0.020183\n",
       "4  0.764057  0.794126  GALAXY -0.010139  0.314667"
      ]
     },
     "execution_count": 11,
     "metadata": {},
     "output_type": "execute_result"
    }
   ],
   "source": [
    "test.head()"
   ]
  },
  {
   "cell_type": "code",
   "execution_count": 29,
   "id": "6bfccf87",
   "metadata": {},
   "outputs": [],
   "source": [
    "train = df.copy()\n",
    "t = test.copy()\n"
   ]
  },
  {
   "cell_type": "markdown",
   "id": "e4d6fb95",
   "metadata": {},
   "source": [
    "używane funkcje"
   ]
  },
  {
   "cell_type": "code",
   "execution_count": 30,
   "id": "c982cc00",
   "metadata": {},
   "outputs": [],
   "source": [
    "def accuracy_fun(test_target, test_predictions):\n",
    "    # Dokładność całkowita\n",
    "    accuracy = accuracy_score(test_target, test_predictions)\n",
    "    print(\"Dokładność całkowita (Accuracy):\", accuracy)\n",
    "    return accuracy"
   ]
  },
  {
   "cell_type": "code",
   "execution_count": 31,
   "id": "979a4867",
   "metadata": {},
   "outputs": [],
   "source": [
    "def raport(test_target, test_predictions):\n",
    "    print(\"\\nRaport klasyfikacji:\")\n",
    "    print(classification_report(test_target, test_predictions))"
   ]
  },
  {
   "cell_type": "code",
   "execution_count": 32,
   "id": "24deacf8",
   "metadata": {},
   "outputs": [],
   "source": [
    "def matrix_confusion(test_target, test_predictions):\n",
    "    print(\"\\nConfusion matrix:\")\n",
    "    print(confusion_matrix(test_target, test_predictions))"
   ]
  },
  {
   "cell_type": "code",
   "execution_count": 33,
   "id": "0fe6fc94",
   "metadata": {},
   "outputs": [],
   "source": [
    "def auc_gini(lb, test_target_bin, proba_predictions, test_target, model):\n",
    "    auc_scores = []\n",
    "    for i in range(len(lb.classes_)):\n",
    "        auc_score = roc_auc_score(test_target_bin[:, i], proba_predictions[:, i])\n",
    "        auc_scores.append(auc_score)\n",
    "        print(f\"AUC dla klasy {lb.classes_[i]}: {auc_score}\")\n",
    "        print(f\"Gini dla klasy {lb.classes_[i]}: {2 * auc_score - 1}\")\n",
    "        print(\" \")\n",
    "        \n",
    "        fpr, tpr, _ = roc_curve(test_target == model.classes_[i], proba_predictions[:, i])\n",
    "        plt.plot(fpr, tpr, label=f'{model.classes_[i]} (AUC = {auc_score:.2f})')\n",
    "    \n",
    "    # Średni AUC\n",
    "    mean_auc = np.mean(auc_scores)\n",
    "    print(\"Średni AUC:\", mean_auc)\n",
    "    \n",
    "    gini_coefficient = 2 * mean_auc - 1\n",
    "    print(\"Gini coefficient:\", gini_coefficient)\n",
    "    return auc_scores, mean_auc, gini_coefficient"
   ]
  },
  {
   "cell_type": "markdown",
   "id": "03a7f754",
   "metadata": {},
   "source": [
    "### 2. Modelowanie bez strojenia hiperparametrów: \n",
    "#### Użyto 7 modeli klasyfikacyjnych, następnie na podstawie ich predykcyjności wybrano modele do dalszej obróbki"
   ]
  },
  {
   "cell_type": "markdown",
   "id": "847b5116",
   "metadata": {},
   "source": [
    "Model 1 - KNeighboursClassifier"
   ]
  },
  {
   "cell_type": "code",
   "execution_count": 34,
   "id": "1cf0fc0f",
   "metadata": {},
   "outputs": [
    {
     "name": "stdout",
     "output_type": "stream",
     "text": [
      "Dokładność całkowita (Accuracy): 0.9615238095238096\n",
      "\n",
      "Raport klasyfikacji:\n",
      "              precision    recall  f1-score   support\n",
      "\n",
      "      GALAXY       0.97      0.96      0.97     12538\n",
      "         QSO       0.96      0.93      0.94      3973\n",
      "        STAR       0.93      0.99      0.96      4489\n",
      "\n",
      "    accuracy                           0.96     21000\n",
      "   macro avg       0.95      0.96      0.96     21000\n",
      "weighted avg       0.96      0.96      0.96     21000\n",
      "\n",
      "\n",
      "Confusion matrix:\n",
      "[[12059   166   313]\n",
      " [  281  3687     5]\n",
      " [   40     3  4446]]\n",
      "AUC dla klasy GALAXY: 0.9797728165653182\n",
      "Gini dla klasy GALAXY: 0.9595456331306365\n",
      " \n",
      "AUC dla klasy QSO: 0.978214195600062\n",
      "Gini dla klasy QSO: 0.9564283912001239\n",
      " \n",
      "AUC dla klasy STAR: 0.9939763724215583\n",
      "Gini dla klasy STAR: 0.9879527448431167\n",
      " \n",
      "Średni AUC: 0.9839877948623128\n",
      "Gini coefficient: 0.9679755897246256\n"
     ]
    },
    {
     "data": {
      "image/png": "[encoded data removed]",
      "text/plain": [
       "<Figure size 432x288 with 1 Axes>"
      ]
     },
     "metadata": {
      "needs_background": "light"
     },
     "output_type": "display_data"
    }
   ],
   "source": [
    "from sklearn.neighbors import KNeighborsClassifier\n",
    "\n",
    "def evaluate_knn_model(train_data, train_target, test_data, test_target):\n",
    "    # Inicjalizacja modelu KNN z domyślnymi parametrami\n",
    "    knn_model = KNeighborsClassifier()\n",
    "    \n",
    "    # Trenowanie modelu na danych treningowych\n",
    "    knn_model.fit(train_data, train_target)\n",
    "    \n",
    "    # Predykcja klas dla danych testowych\n",
    "    test_predictions = knn_model.predict(test_data)\n",
    "    \n",
    "    # Accuracy\n",
    "    accuracy = accuracy_fun(test_target, test_predictions)\n",
    "    \n",
    "    # Raport klasyfikacji\n",
    "    raport(test_target, test_predictions)\n",
    "    \n",
    "    # Macierz pomyłek\n",
    "    matrix_confusion(test_target, test_predictions)\n",
    "    \n",
    "    proba_predictions = knn_model.predict_proba(test_data)\n",
    "    \n",
    "    # Konwersja etykiet klas na formę binarną dla każdej klasy\n",
    "    lb = LabelBinarizer()\n",
    "    lb.fit(train_target)\n",
    "    test_target_bin = lb.transform(test_target)\n",
    "    \n",
    "    # Obliczenie AUC dla każdej klasy\n",
    "    auc_gini(lb, test_target_bin, proba_predictions, test_target, knn_model)\n",
    "# Przykładowe dane\n",
    "train_data = train.drop('class', axis=1)\n",
    "train_target = train['class']\n",
    "test_data = t.drop('class', axis=1)\n",
    "test_target = t['class']\n",
    "# Ocena modelu\n",
    "evaluate_knn_model(train_data, train_target, test_data, test_target)\n"
   ]
  },
  {
   "cell_type": "markdown",
   "id": "67875872",
   "metadata": {},
   "source": [
    "Model klasyfikacji KNN osiągnął ogólną dokładność na poziomie 96.15%. Z raportu klasyfikacji wynika, że model dobrze radzi sobie z klasyfikacją obiektów GALAXY oraz QSO, uzyskując odpowiednio 97% i 96% precyzji. Jednakże, dla klasy QSO (kwazarów) precyzja jest nieco niższa - 96%, co sugeruje, że model może mieć trudności w identyfikacji tej klasy.\n",
    "\n",
    "Analiza macierzy pomyłek pokazuje, że model często myli klasy GALAXY z QSO, co może wymagać dalszej optymalizacji.\n",
    "\n",
    "Średnie AUC dla każdej klasy oraz Gini coefficient wskazują, że model ma ogólnie dobrą zdolność do rozróżniania klas, z wynikami powyżej 0.95 dla każdej klasy."
   ]
  },
  {
   "cell_type": "code",
   "execution_count": null,
   "id": "02a9848e",
   "metadata": {},
   "outputs": [],
   "source": []
  },
  {
   "cell_type": "markdown",
   "id": "95edace1",
   "metadata": {},
   "source": [
    "Model 2 - RandomForestClassifier"
   ]
  },
  {
   "cell_type": "code",
   "execution_count": 35,
   "id": "0356b970",
   "metadata": {},
   "outputs": [
    {
     "name": "stdout",
     "output_type": "stream",
     "text": [
      "Dokładność całkowita (Accuracy): 0.9635714285714285\n",
      "\n",
      "Raport klasyfikacji:\n",
      "              precision    recall  f1-score   support\n",
      "\n",
      "      GALAXY       0.96      0.98      0.97     12538\n",
      "         QSO       0.95      0.93      0.94      3973\n",
      "        STAR       0.98      0.96      0.97      4489\n",
      "\n",
      "    accuracy                           0.96     21000\n",
      "   macro avg       0.96      0.95      0.96     21000\n",
      "weighted avg       0.96      0.96      0.96     21000\n",
      "\n",
      "\n",
      "Confusion matrix:\n",
      "[[12255   174   109]\n",
      " [  283  3689     1]\n",
      " [  198     0  4291]]\n",
      "AUC dla klasy GALAXY: 0.9892064121289668\n",
      "Gini dla klasy GALAXY: 0.9784128242579335\n",
      " \n",
      "AUC dla klasy QSO: 0.9883353338032839\n",
      "Gini dla klasy QSO: 0.9766706676065677\n",
      " \n",
      "AUC dla klasy STAR: 0.9975750655250132\n",
      "Gini dla klasy STAR: 0.9951501310500264\n",
      " \n",
      "Średni AUC: 0.991705603819088\n",
      "Gini coefficient: 0.983411207638176\n"
     ]
    },
    {
     "data": {
      "image/png": "[encoded data removed]",
      "text/plain": [
       "<Figure size 432x288 with 1 Axes>"
      ]
     },
     "metadata": {
      "needs_background": "light"
     },
     "output_type": "display_data"
    }
   ],
   "source": [
    "from sklearn.ensemble import RandomForestClassifier\n",
    "\n",
    "def evaluate_forest_model(train_data, train_target, test_data, test_target):\n",
    "    rf_model = RandomForestClassifier(n_estimators=100, random_state=42)\n",
    "\n",
    "    # Trenowanie modelu\n",
    "    rf_model.fit(train_data, train_target)\n",
    "\n",
    "    # Predykcja klas dla danych testowych\n",
    "    test_predictions = rf_model.predict(test_data)\n",
    "    \n",
    "    # Accuracy\n",
    "    accuracy = accuracy_fun(test_target, test_predictions)\n",
    "    \n",
    "    # Raport klasyfikacji\n",
    "    raport(test_target, test_predictions)\n",
    "    \n",
    "    # Macierz pomyłek\n",
    "    matrix_confusion(test_target, test_predictions)\n",
    "    \n",
    "    proba_predictions = rf_model.predict_proba(test_data)\n",
    "    \n",
    "    # Konwersja etykiet klas na formę binarną dla każdej klasy\n",
    "    lb = LabelBinarizer()\n",
    "    lb.fit(train_target)\n",
    "    test_target_bin = lb.transform(test_target)\n",
    "    \n",
    "    # Obliczenie AUC dla każdej klasy\n",
    "    auc_gini(lb, test_target_bin, proba_predictions, test_target, rf_model)\n",
    "\n",
    "# Przykładowe dane\n",
    "train_data = train.drop('class', axis=1)\n",
    "train_target = train['class']\n",
    "test_data = t.drop('class', axis=1)\n",
    "test_target = t['class']\n",
    "# Ocena modelu\n",
    "evaluate_forest_model(train_data, train_target, test_data, test_target)"
   ]
  },
  {
   "cell_type": "markdown",
   "id": "5b4cd823",
   "metadata": {},
   "source": [
    "Model RandomForestClassifier osiągnął nieznacznie wyższą dokładność całkowitą w porównaniu do modelu KNN.\n",
    "Wartości AUC dla klasy GALAXY i QSO są nieznacznie wyższe w przypadku drugiego modelu, podczas gdy dla klasy STAR wartość AUC jest zbliżona. Oznacza to, że RandomForestClassifier model ma lepszą zdolność do rozróżniania poszczególnych klas niż KNN"
   ]
  },
  {
   "cell_type": "code",
   "execution_count": null,
   "id": "d8f78718",
   "metadata": {},
   "outputs": [],
   "source": []
  },
  {
   "cell_type": "markdown",
   "id": "62faea46",
   "metadata": {},
   "source": [
    "Model 3"
   ]
  },
  {
   "cell_type": "markdown",
   "id": "cb60f5d9",
   "metadata": {},
   "source": [
    "xboost"
   ]
  },
  {
   "cell_type": "code",
   "execution_count": 41,
   "id": "d8c5fcc0",
   "metadata": {},
   "outputs": [
    {
     "name": "stdout",
     "output_type": "stream",
     "text": [
      "Dokładność całkowita (Accuracy): 0.9531428571428572\n",
      "\n",
      "Raport klasyfikacji:\n",
      "              precision    recall  f1-score   support\n",
      "\n",
      "           0       0.95      0.98      0.96     12538\n",
      "           1       0.95      0.93      0.94      3973\n",
      "           2       0.97      0.91      0.94      4489\n",
      "\n",
      "    accuracy                           0.95     21000\n",
      "   macro avg       0.96      0.94      0.95     21000\n",
      "weighted avg       0.95      0.95      0.95     21000\n",
      "\n",
      "\n",
      "Confusion matrix:\n",
      "[[12243   188   107]\n",
      " [  287  3685     1]\n",
      " [  400     1  4088]]\n",
      "AUC dla klasy GALAXY: 0.9888003244893265\n",
      "Gini dla klasy GALAXY: 0.9776006489786531\n",
      " \n",
      "AUC dla klasy QSO: 0.992220518097203\n",
      "Gini dla klasy QSO: 0.984441036194406\n",
      " \n",
      "AUC dla klasy STAR: 0.9966129494882066\n",
      "Gini dla klasy STAR: 0.9932258989764131\n",
      " \n",
      "Średni AUC: 0.9925445973582453\n",
      "Gini coefficient: 0.9850891947164906\n"
     ]
    }
   ],
   "source": [
    "from xgboost import XGBClassifier\n",
    "from sklearn.preprocessing import LabelEncoder\n",
    "from sklearn.metrics import accuracy_score, classification_report, confusion_matrix\n",
    "\n",
    "def evaluate_xboost_model(train_data, train_target, test_data, test_target):\n",
    "\n",
    "    xgb_model = XGBClassifier(n_estimators=100, random_state=42)\n",
    "\n",
    "    # Zakodowanie etykiet klas jako liczby\n",
    "    label_encoder = LabelEncoder()\n",
    "    train_target_encoded = label_encoder.fit_transform(train_target)\n",
    "    test_target_encoded = label_encoder.transform(test_target)\n",
    "\n",
    "    # Trenowanie modelu XGBoost\n",
    "    xgb_model.fit(train_data, train_target_encoded)\n",
    "\n",
    "    # Predykcja klas dla danych testowych\n",
    "    test_predictions = xgb_model.predict(test_data)\n",
    "    \n",
    "    # Accuracy\n",
    "    accuracy = accuracy_fun(test_target_encoded, test_predictions)\n",
    "    \n",
    "    # Raport klasyfikacji\n",
    "    raport(test_target_encoded, test_predictions)\n",
    "    \n",
    "    # Macierz pomyłek\n",
    "    matrix_confusion(test_target_encoded, test_predictions)\n",
    "    \n",
    "    proba_predictions = xgb_model.predict_proba(test_data)\n",
    "    \n",
    "    # Obliczenie AUC dla każdej klasy\n",
    "    auc_scores = []\n",
    "    for i in range(len(label_encoder.classes_)):\n",
    "        auc_score = roc_auc_score(test_target_encoded == i, proba_predictions[:, i])\n",
    "        auc_scores.append(auc_score)\n",
    "        print(f\"AUC dla klasy {label_encoder.classes_[i]}: {auc_score}\")\n",
    "        print(f\"Gini dla klasy {label_encoder.classes_[i]}: {2 * auc_score - 1}\")\n",
    "        print(\" \")\n",
    "    \n",
    "    # Średni AUC\n",
    "    mean_auc = np.mean(auc_scores)\n",
    "    print(\"Średni AUC:\", mean_auc)\n",
    "    \n",
    "    gini_coefficient = 2 * mean_auc - 1\n",
    "    print(\"Gini coefficient:\", gini_coefficient)\n",
    "    \n",
    "\n",
    "# Przykładowe dane\n",
    "train_data = train.drop('class', axis=1)\n",
    "train_target = train['class']\n",
    "test_data = t.drop('class', axis=1)\n",
    "test_target = t['class']\n",
    "\n",
    "# Ocena modelu\n",
    "evaluate_xboost_model(train_data, train_target, test_data, test_target)"
   ]
  },
  {
   "cell_type": "markdown",
   "id": "2578f4f9",
   "metadata": {},
   "source": [
    "Model XGBoost poprawnie sklasyfikował 95.3% wszystkich próbek. Model osiągnął wysokie wartości precision dla wszystkich klas, co oznacza, że dobrze radził sobie zarówno z minimalizacją fałszywie pozytywnych jak i fałszywie negatywnych przypadków.\n",
    "Model poprawnie zidentyfikował większość przypadków dla wszystkich klas, najwięcej błędów pojawiło się z klasyfikacją star i galaxy - model przewidział błędnie 400 razy klasę galaxy zamiast star."
   ]
  },
  {
   "cell_type": "code",
   "execution_count": null,
   "id": "ea92d14a",
   "metadata": {},
   "outputs": [],
   "source": []
  },
  {
   "cell_type": "markdown",
   "id": "e55e3c73",
   "metadata": {},
   "source": [
    "Model 4"
   ]
  },
  {
   "cell_type": "markdown",
   "id": "6b01f45b",
   "metadata": {},
   "source": [
    "Gradient Boosting"
   ]
  },
  {
   "cell_type": "code",
   "execution_count": 44,
   "id": "774c700a",
   "metadata": {
    "scrolled": true
   },
   "outputs": [
    {
     "name": "stdout",
     "output_type": "stream",
     "text": [
      "Dokładność całkowita (Accuracy): 0.9655714285714285\n",
      "\n",
      "Raport klasyfikacji:\n",
      "              precision    recall  f1-score   support\n",
      "\n",
      "      GALAXY       0.96      0.98      0.97     12538\n",
      "         QSO       0.96      0.91      0.94      3973\n",
      "        STAR       0.98      0.97      0.97      4489\n",
      "\n",
      "    accuracy                           0.97     21000\n",
      "   macro avg       0.97      0.96      0.96     21000\n",
      "weighted avg       0.97      0.97      0.97     21000\n",
      "\n",
      "\n",
      "Confusion matrix:\n",
      "[[12275   154   109]\n",
      " [  341  3631     1]\n",
      " [  118     0  4371]]\n",
      "AUC dla klasy GALAXY: 0.9888525363631973\n",
      "Gini dla klasy GALAXY: 0.9777050727263945\n",
      " \n",
      "AUC dla klasy QSO: 0.9912534571652245\n",
      "Gini dla klasy QSO: 0.982506914330449\n",
      " \n",
      "AUC dla klasy STAR: 0.9963079488553632\n",
      "Gini dla klasy STAR: 0.9926158977107264\n",
      " \n",
      "Średni AUC: 0.992137980794595\n",
      "Gini coefficient: 0.9842759615891901\n"
     ]
    },
    {
     "data": {
      "image/png": "[encoded data removed]",
      "text/plain": [
       "<Figure size 432x288 with 1 Axes>"
      ]
     },
     "metadata": {
      "needs_background": "light"
     },
     "output_type": "display_data"
    }
   ],
   "source": [
    "from sklearn.ensemble import GradientBoostingClassifier\n",
    "def evaluate_gradient_model(train_data, train_target, test_data, test_target):\n",
    "\n",
    "    gb_model = GradientBoostingClassifier(n_estimators=100, random_state=42)\n",
    "\n",
    "    # Trenowanie modelu Gradient Boosting\n",
    "    gb_model.fit(train_data, train_target)\n",
    "\n",
    "\n",
    "    # Predykcja klas dla danych testowych\n",
    "    test_predictions = gb_model.predict(test_data)\n",
    "    \n",
    "    # Accuracy\n",
    "    accuracy = accuracy_fun(test_target, test_predictions)\n",
    "    \n",
    "    # Raport klasyfikacji\n",
    "    raport(test_target, test_predictions)\n",
    "    \n",
    "    # Macierz pomyłek\n",
    "    matrix_confusion(test_target, test_predictions)\n",
    "    \n",
    "    proba_predictions = gb_model.predict_proba(test_data)\n",
    "    \n",
    "    # Konwersja etykiet klas na formę binarną dla każdej klasy\n",
    "    lb = LabelBinarizer()\n",
    "    lb.fit(train_target)\n",
    "    test_target_bin = lb.transform(test_target)\n",
    "    \n",
    "    # Obliczenie AUC dla każdej klasy\n",
    "    auc_gini(lb, test_target_bin, proba_predictions, test_target, gb_model)\n",
    "\n",
    "# Przykładowe dane\n",
    "train_data = train.drop('class', axis=1)\n",
    "train_target = train['class']\n",
    "test_data = t.drop('class', axis=1)\n",
    "test_target = t['class']\n",
    "\n",
    "# Ocena modelu\n",
    "evaluate_gradient_model(train_data, train_target, test_data, test_target)"
   ]
  },
  {
   "cell_type": "markdown",
   "id": "91dd9550",
   "metadata": {},
   "source": [
    "Model Gradient Boosting poprawnie sklasyfikował 96.6% wszystkich próbek.\n",
    "Macierz pomyłek pokazuje, że model poprawnie rozróżnia klasy star i quasar (tylko jeden błąd)!\n",
    "\n",
    "Podsumowując, zarówno model XGBoost, jak i Gradient Boosting wykazały się bardzo dobrymi wynikami, osiągając wysoką dokładność oraz skuteczność w klasyfikacji danych."
   ]
  },
  {
   "cell_type": "code",
   "execution_count": null,
   "id": "6685bd2f",
   "metadata": {},
   "outputs": [],
   "source": []
  },
  {
   "cell_type": "markdown",
   "id": "b9bfb78e",
   "metadata": {},
   "source": [
    "Model 5: Regresja logistyczna"
   ]
  },
  {
   "cell_type": "code",
   "execution_count": 47,
   "id": "88a9fa54",
   "metadata": {},
   "outputs": [
    {
     "name": "stdout",
     "output_type": "stream",
     "text": [
      "Dokładność całkowita (Accuracy): 0.9533333333333334\n",
      "\n",
      "Raport klasyfikacji:\n",
      "              precision    recall  f1-score   support\n",
      "\n",
      "      GALAXY       0.96      0.96      0.96     12538\n",
      "         QSO       0.94      0.88      0.91      3973\n",
      "        STAR       0.94      1.00      0.97      4489\n",
      "\n",
      "    accuracy                           0.95     21000\n",
      "   macro avg       0.95      0.95      0.95     21000\n",
      "weighted avg       0.95      0.95      0.95     21000\n",
      "\n",
      "\n",
      "Confusion matrix:\n",
      "[[12053   205   280]\n",
      " [  490  3480     3]\n",
      " [    0     2  4487]]\n",
      "AUC dla klasy GALAXY: 0.9830697143458644\n",
      "Gini dla klasy GALAXY: 0.9661394286917289\n",
      " \n",
      "AUC dla klasy QSO: 0.9850534243513777\n",
      "Gini dla klasy QSO: 0.9701068487027553\n",
      " \n",
      "AUC dla klasy STAR: 0.9956065121615257\n",
      "Gini dla klasy STAR: 0.9912130243230515\n",
      " \n",
      "Średni AUC: 0.9879098836195892\n",
      "Gini coefficient: 0.9758197672391784\n"
     ]
    },
    {
     "data": {
      "image/png": "[encoded data removed]",
      "text/plain": [
       "<Figure size 432x288 with 1 Axes>"
      ]
     },
     "metadata": {
      "needs_background": "light"
     },
     "output_type": "display_data"
    }
   ],
   "source": [
    "def evaluate_regression_model(train_data, train_target, test_data, test_target):\n",
    "\n",
    "    log_reg_model = LogisticRegression(max_iter=1000, random_state=42)\n",
    "    log_reg_model.fit(train_data, train_target)\n",
    "\n",
    "    # Predykcja klas dla danych testowych\n",
    "    test_predictions = log_reg_model.predict(test_data)\n",
    "    \n",
    "    # Accuracy\n",
    "    accuracy = accuracy_fun(test_target, test_predictions)\n",
    "    \n",
    "    # Raport klasyfikacji\n",
    "    raport(test_target, test_predictions)\n",
    "    \n",
    "    # Macierz pomyłek\n",
    "    matrix_confusion(test_target, test_predictions)\n",
    "    \n",
    "    proba_predictions = log_reg_model.predict_proba(test_data)\n",
    "    \n",
    "    # Konwersja etykiet klas na formę binarną dla każdej klasy\n",
    "    lb = LabelBinarizer()\n",
    "    lb.fit(train_target)\n",
    "    test_target_bin = lb.transform(test_target)\n",
    "    \n",
    "    # Obliczenie AUC dla każdej klasy\n",
    "    auc_gini(lb, test_target_bin, proba_predictions, test_target, log_reg_model)\n",
    "\n",
    "# Przykładowe dane\n",
    "train_data = train.drop('class', axis=1)\n",
    "train_target = train['class']\n",
    "test_data = t.drop('class', axis=1)\n",
    "test_target = t['class']\n",
    "\n",
    "# Ocena modelu\n",
    "evaluate_regression_model(train_data, train_target, test_data, test_target)"
   ]
  },
  {
   "cell_type": "markdown",
   "id": "6bd53b2b",
   "metadata": {},
   "source": [
    "Model regresji logistycznej ma nieco niższą dokładność niż modele XGBoost i Gradient Boosting. Na razie najlepiej przewiduje klasę Star - prawie brak pomyłek w klasyfikowaniu star i quasar oraz nie zakwalifikował błędnie żadnej gwiazdy do galaktyki!"
   ]
  },
  {
   "cell_type": "code",
   "execution_count": null,
   "id": "b2255d01",
   "metadata": {},
   "outputs": [],
   "source": []
  },
  {
   "cell_type": "markdown",
   "id": "33dcfd76",
   "metadata": {},
   "source": [
    "Model 6: Model Markova"
   ]
  },
  {
   "cell_type": "code",
   "execution_count": 50,
   "id": "0689a20a",
   "metadata": {},
   "outputs": [
    {
     "name": "stdout",
     "output_type": "stream",
     "text": [
      "Dokładność całkowita (Accuracy): 0.8951904761904762\n",
      "\n",
      "Raport klasyfikacji:\n",
      "              precision    recall  f1-score   support\n",
      "\n",
      "           0       0.91      0.96      0.94     12538\n",
      "           1       0.79      0.92      0.85      3973\n",
      "           2       0.97      0.70      0.81      4489\n",
      "\n",
      "   micro avg       0.90      0.90      0.90     21000\n",
      "   macro avg       0.89      0.86      0.87     21000\n",
      "weighted avg       0.90      0.90      0.89     21000\n",
      " samples avg       0.90      0.90      0.90     21000\n",
      "\n",
      "AUC dla klasy 0: 0.9124776679838694\n",
      "Gini dla klasy 0: 0.8249553359677388\n",
      " \n",
      "AUC dla klasy 1: 0.9298596485932361\n",
      "Gini dla klasy 1: 0.8597192971864722\n",
      " \n",
      "AUC dla klasy 2: 0.8460061640457898\n",
      "Gini dla klasy 2: 0.6920123280915795\n",
      " \n",
      "Średni AUC: 0.8961144935409652\n",
      "Gini coefficient: 0.7922289870819303\n"
     ]
    },
    {
     "name": "stderr",
     "output_type": "stream",
     "text": [
      "C:\\Users\\HP\\anaconda3\\lib\\site-packages\\sklearn\\metrics\\_classification.py:1334: UndefinedMetricWarning: Precision and F-score are ill-defined and being set to 0.0 in samples with no predicted labels. Use `zero_division` parameter to control this behavior.\n",
      "  _warn_prf(average, modifier, msg_start, len(result))\n"
     ]
    }
   ],
   "source": [
    "def evaluate_markov_model(train_data, train_target, test_data, test_target):\n",
    "    \n",
    "    markov_model = ClassifierChain(base_estimator=DecisionTreeClassifier(), order='random', random_state=42)\n",
    "    markov_model.fit(train_data, train_target)\n",
    "\n",
    "    # Predykcja klas dla danych testowych\n",
    "    test_predictions = markov_model.predict(test_data)\n",
    "    \n",
    "    # Accuracy\n",
    "    accuracy = accuracy_fun(test_target, test_predictions)\n",
    "    \n",
    "    # Raport klasyfikacji\n",
    "    raport(test_target, test_predictions)\n",
    "    \n",
    "    # Macierz pomyłek\n",
    "    #matrix_confusion(test_target, test_predictions)\n",
    "    proba_predictions = markov_model.predict_proba(test_data)\n",
    "    \n",
    "    # Konwersja etykiet klas na formę binarną dla każdej klasy\n",
    "    lb = LabelBinarizer()\n",
    "    lb.fit(train_target)\n",
    "    test_target_bin = lb.transform(test_target)\n",
    "    \n",
    "    # Obliczenie AUC dla każdej klasy\n",
    "    auc_scores = []\n",
    "    for i in range(len(lb.classes_)):\n",
    "        auc_score = roc_auc_score(test_target_bin[:, i], proba_predictions[:, i])\n",
    "        auc_scores.append(auc_score)\n",
    "        print(f\"AUC dla klasy {lb.classes_[i]}: {auc_score}\")\n",
    "        print(f\"Gini dla klasy {lb.classes_[i]}: {2 * auc_score - 1}\")\n",
    "        print(\" \")\n",
    "    \n",
    "    # Średni AUC\n",
    "    mean_auc = np.mean(auc_scores)\n",
    "    print(\"Średni AUC:\", mean_auc)\n",
    "    \n",
    "    gini_coefficient = 2 * mean_auc - 1\n",
    "    print(\"Gini coefficient:\", gini_coefficient)\n",
    "\n",
    "# Przykładowe dane\n",
    "train_data = train.drop('class', axis=1)\n",
    "train_target = train['class']\n",
    "test_data = t.drop('class', axis=1)\n",
    "test_target = t['class']\n",
    "\n",
    "# Zakodowanie klas za pomocą OneHotEncoder\n",
    "encoder = OneHotEncoder(sparse=False)\n",
    "train_target_encoded = encoder.fit_transform(train[['class']])\n",
    "test_target_encoded = encoder.transform(t[['class']])\n",
    "\n",
    "# Ocena modelu\n",
    "evaluate_markov_model(train_data, train_target_encoded, test_data, test_target_encoded)"
   ]
  },
  {
   "cell_type": "markdown",
   "id": "3fabf07d",
   "metadata": {},
   "source": [
    "Model Markov Chain osiąga dobre wyniki, jednak w porówaniu z posostałymi modelami nie jest aż tak efektywny"
   ]
  },
  {
   "cell_type": "code",
   "execution_count": null,
   "id": "0eaad680",
   "metadata": {},
   "outputs": [],
   "source": []
  },
  {
   "cell_type": "markdown",
   "id": "ad869696",
   "metadata": {},
   "source": [
    "Model 7"
   ]
  },
  {
   "cell_type": "markdown",
   "id": "2ffb513a",
   "metadata": {},
   "source": [
    "Adaptacyjne drzewa decyzyjne"
   ]
  },
  {
   "cell_type": "code",
   "execution_count": 52,
   "id": "acc7e030",
   "metadata": {},
   "outputs": [
    {
     "name": "stdout",
     "output_type": "stream",
     "text": [
      "Dokładność całkowita (Accuracy): 0.9145238095238095\n",
      "\n",
      "Raport klasyfikacji:\n",
      "              precision    recall  f1-score   support\n",
      "\n",
      "      GALAXY       0.95      0.96      0.96     12538\n",
      "         QSO       0.77      0.92      0.84      3973\n",
      "        STAR       0.97      0.79      0.87      4489\n",
      "\n",
      "    accuracy                           0.91     21000\n",
      "   macro avg       0.90      0.89      0.89     21000\n",
      "weighted avg       0.92      0.91      0.92     21000\n",
      "\n",
      "\n",
      "Confusion matrix:\n",
      "[[12017   420   101]\n",
      " [  326  3646     1]\n",
      " [  261   686  3542]]\n",
      "AUC dla klasy GALAXY: 0.9445386898326842\n",
      "Gini dla klasy GALAXY: 0.8890773796653684\n",
      " \n",
      "AUC dla klasy QSO: 0.9263693893965154\n",
      "Gini dla klasy QSO: 0.8527387787930307\n",
      " \n",
      "AUC dla klasy STAR: 0.8914310877676357\n",
      "Gini dla klasy STAR: 0.7828621755352714\n",
      " \n",
      "Średni AUC: 0.9207797223322784\n",
      "Gini coefficient: 0.8415594446645569\n"
     ]
    },
    {
     "data": {
      "image/png": "[encoded data removed]",
      "text/plain": [
       "<Figure size 432x288 with 1 Axes>"
      ]
     },
     "metadata": {
      "needs_background": "light"
     },
     "output_type": "display_data"
    }
   ],
   "source": [
    "def evaluate_decisiontree_model(train_data, train_target, test_data, test_target):\n",
    "\n",
    "    adtree_model = DecisionTreeClassifier()\n",
    "    adtree_model.fit(train_data, train_target)\n",
    "\n",
    "    # Predykcja klas dla danych testowych\n",
    "    test_predictions = adtree_model.predict(test_data)\n",
    "    \n",
    "    # Accuracy\n",
    "    accuracy = accuracy_fun(test_target, test_predictions)\n",
    "    \n",
    "    # Raport klasyfikacji\n",
    "    raport(test_target, test_predictions)\n",
    "    \n",
    "    # Macierz pomyłek\n",
    "    matrix_confusion(test_target, test_predictions)\n",
    "    \n",
    "    proba_predictions = adtree_model.predict_proba(test_data)\n",
    "    \n",
    "    # Konwersja etykiet klas na formę binarną dla każdej klasy\n",
    "    lb = LabelBinarizer()\n",
    "    lb.fit(train_target)\n",
    "    test_target_bin = lb.transform(test_target)\n",
    "    \n",
    "    # Obliczenie AUC dla każdej klasy\n",
    "    auc_gini(lb, test_target_bin, proba_predictions, test_target, adtree_model)\n",
    "\n",
    "# Przykładowe dane\n",
    "train_data = train.drop('class', axis=1)\n",
    "train_target = train['class']\n",
    "test_data = t.drop('class', axis=1)\n",
    "test_target = t['class']\n",
    "\n",
    "# Ocena modelu\n",
    "evaluate_decisiontree_model(train_data, train_target, test_data, test_target)"
   ]
  },
  {
   "cell_type": "markdown",
   "id": "aa54e352",
   "metadata": {},
   "source": [
    "Model DecisionTreeClassifier osiąga gorsze wyniki niż np. regresja logistyczna czy xgboost. Bardzo słabo przewiduje klasę STAR, co jest atutem pozostałych modeli."
   ]
  },
  {
   "cell_type": "code",
   "execution_count": null,
   "id": "54a67525",
   "metadata": {},
   "outputs": [],
   "source": []
  },
  {
   "cell_type": "markdown",
   "id": "bea5ecac",
   "metadata": {},
   "source": [
    "#### wnioski:\n",
    "\n",
    "1) najwyższa dokładność ogólna: knn, randomForest, gradient boosting ~ 0.96\n",
    "\n",
    "\n",
    "2) najwyższa dokładność:\n",
    "\n",
    "\n",
    "        dla Star: randomForest, gradient boosting ~ 0.98\n",
    "        \n",
    "        dla Galaxy: knn ~ 0.97\n",
    "        \n",
    "        dla Quasar: knn, gradient boosting ~ 0.96\n",
    "        \n",
    "        \n",
    "3) najwyższy średni auc: gradient, boosting, xboost, randomForest  ~ 0.99\n",
    "\n",
    "\n",
    "4) najwyższy auc:\n",
    "\n",
    "        dla Star: wszystkie oprócz Markowa i DecisionTreeClassifier ~ 0.99\n",
    "        \n",
    "        dla Galaxy: wszystkie oprócz Markowa i DecisionTreeClassifier ~ 0.99\n",
    "        \n",
    "        dla Quasar: xboost, gradient boosting ~ 0.99\n"
   ]
  },
  {
   "cell_type": "markdown",
   "id": "bfbe5f07",
   "metadata": {},
   "source": [
    "najsłabiej sobie radzi Model Markova\n",
    "\n",
    "Decision Tree Classifier bardzo słabo przewiduję klasę STAR, dla każdego innego modelu predykcyjność STAR jest najwyższa, często bliska 100 %"
   ]
  },
  {
   "cell_type": "markdown",
   "id": "69479418",
   "metadata": {},
   "source": [
    "### 3) Strojenie hiperparametrów dla wybranych modeli, wybór najlepszego"
   ]
  },
  {
   "cell_type": "markdown",
   "id": "724de8b9",
   "metadata": {},
   "source": [
    "#### Do kolejnej części wybrano te modele, które osiągnęły najlepsze wyniki z standardowymi, niezmienionymi parametrami. Są to:\n",
    "\n",
    "1) XGBoost\n",
    "\n",
    "2) Random Forest Classifier\n",
    "\n",
    "3) Logistic Regression ????????????????????????????????????????????????????????????????????????????????????????????????????????????????????????????????????????????????????????????????????????????????????????????????????????????????????????????????????????????????????????????????????????????????????????????????????????????????????????????????????????????????????????????????????????????????????????????????"
   ]
  },
  {
   "cell_type": "code",
   "execution_count": 59,
   "id": "c74f4075",
   "metadata": {},
   "outputs": [],
   "source": [
    "from sklearn.model_selection import GridSearchCV"
   ]
  },
  {
   "cell_type": "code",
   "execution_count": 1,
   "id": "576d0af7",
   "metadata": {},
   "outputs": [],
   "source": [
    "### strojenie parametrów forest"
   ]
  },
  {
   "cell_type": "code",
   "execution_count": 60,
   "id": "98e04212",
   "metadata": {},
   "outputs": [],
   "source": [
    "def hiperparams_forest(train_data, train_target, test_data, test_target):\n",
    "    # Konwersja etykiet\n",
    "    label_encoder = LabelEncoder()\n",
    "    train_target_encoded = label_encoder.fit_transform(train_target)\n",
    "    test_target_encoded = label_encoder.transform(test_target)\n",
    "\n",
    "    rf_clf = RandomForestClassifier()\n",
    "\n",
    "    # Definicja siatki parametrów do przeszukania\n",
    "    param_grid = {\n",
    "        'n_estimators': [50, 100, 150],  # Liczba drzew w lesie\n",
    "        'max_depth': [None, 10, 20, 30],  # Maksymalna głębokość drzewa\n",
    "        'min_samples_split': [2, 5, 10],  # Minimalna liczba próbek wymagana do podziału węzła\n",
    "        'min_samples_leaf': [1, 2, 4]  # Minimalna liczba próbek wymagana do utworzenia liścia\n",
    "    }\n",
    "\n",
    "    # Inicjalizacja GridSearchCV\n",
    "    grid_search = GridSearchCV(estimator=rf_clf, param_grid=param_grid, cv=5, scoring='accuracy', verbose=2, n_jobs=-1)\n",
    "\n",
    "    grid_search.fit(train_data, train_target_encoded)\n",
    "\n",
    "    # Najlepsze parametry znalezione podczas strojenia\n",
    "    best_params = grid_search.best_params_\n",
    "    print(\"Najlepsze parametry:\", best_params)\n",
    "\n",
    "    # Uzyskanie najlepszego modelu po strojeniu\n",
    "    best_rf_clf = grid_search.best_estimator_\n",
    "\n",
    "    # Predykcja na danych testowych\n",
    "    predictions = best_rf_clf.predict(test_data)\n",
    "    \n",
    "    # Dokładność\n",
    "    accuracy = accuracy_score(test_target_encoded, predictions)\n",
    "    print(\"Dokładność:\", accuracy)\n",
    "\n",
    "    # Raport klasyfikacji\n",
    "    class_names = label_encoder.classes_\n",
    "    classification_rep = classification_report(test_target_encoded, predictions, target_names=class_names)\n",
    "    print(\"Raport klasyfikacji:\")\n",
    "    print(classification_rep)\n",
    "\n",
    "    # Confusion matrix\n",
    "    conf_matrix = confusion_matrix(test_target_encoded, predictions)\n",
    "    print(\"Confusion Matrix:\")\n",
    "    print(conf_matrix)\n",
    "    \n",
    "    \n",
    "    # AUC i Gini dla najlepszego modelu\n",
    "    auc_scores = []\n",
    "    gini_scores = []\n",
    "    for class_name in class_names:\n",
    "        class_index = label_encoder.transform([class_name])[0]\n",
    "        class_probs = best_rf_clf.predict_proba(test_data)[:, class_index]\n",
    "        class_target = (test_target_encoded == class_index).astype(int)\n",
    "        auc = roc_auc_score(class_target, class_probs)\n",
    "        auc_scores.append(auc)\n",
    "        gini = 2 * auc - 1\n",
    "        gini_scores.append(gini)\n",
    "        print(f\"AUC dla klasy '{class_name}': {auc}\")\n",
    "        print(f\"Gini dla klasy '{class_name}': {gini}\")\n",
    "\n",
    "    # Średni AUC i Gini\n",
    "    mean_auc = np.mean(auc_scores)\n",
    "    mean_gini = np.mean(gini_scores)\n",
    "    print(f\"Średnie AUC: {mean_auc}\")\n",
    "    print(f\"Średni Gini: {mean_gini}\")\n",
    "    \n",
    "\n",
    "    return best_rf_clf, classification_rep, conf_matrix, mean_auc, mean_gini"
   ]
  },
  {
   "cell_type": "code",
   "execution_count": 61,
   "id": "d1c15576",
   "metadata": {},
   "outputs": [
    {
     "name": "stdout",
     "output_type": "stream",
     "text": [
      "Fitting 5 folds for each of 108 candidates, totalling 540 fits\n",
      "Najlepsze parametry: {'max_depth': 20, 'min_samples_leaf': 1, 'min_samples_split': 10, 'n_estimators': 100}\n",
      "Dokładność: 0.9667142857142857\n",
      "Raport klasyfikacji:\n",
      "              precision    recall  f1-score   support\n",
      "\n",
      "      GALAXY       0.97      0.98      0.97     12538\n",
      "         QSO       0.96      0.93      0.94      3973\n",
      "        STAR       0.98      0.97      0.97      4489\n",
      "\n",
      "    accuracy                           0.97     21000\n",
      "   macro avg       0.97      0.96      0.96     21000\n",
      "weighted avg       0.97      0.97      0.97     21000\n",
      "\n",
      "Confusion Matrix:\n",
      "[[12261   167   110]\n",
      " [  288  3684     1]\n",
      " [  133     0  4356]]\n",
      "AUC dla klasy 'GALAXY': 0.9903312507146791\n",
      "Gini dla klasy 'GALAXY': 0.9806625014293582\n",
      "AUC dla klasy 'QSO': 0.9904192525482285\n",
      "Gini dla klasy 'QSO': 0.980838505096457\n",
      "AUC dla klasy 'STAR': 0.9975656211101238\n",
      "Gini dla klasy 'STAR': 0.9951312422202476\n",
      "Średnie AUC: 0.9927720414576772\n",
      "Średni Gini: 0.9855440829153542\n"
     ]
    }
   ],
   "source": [
    "best_rf_clf_forest, classification_rep_forest, conf_matrix_forest, mean_auc_forest, mean_gini_forest = hiperparams_forest(train_data, train_target, test_data, test_target)"
   ]
  },
  {
   "cell_type": "code",
   "execution_count": null,
   "id": "2e9d041f",
   "metadata": {},
   "outputs": [],
   "source": []
  },
  {
   "cell_type": "code",
   "execution_count": 65,
   "id": "23df155f",
   "metadata": {},
   "outputs": [],
   "source": [
    "def hiperparams_xgboost(train_data, train_target, test_data, test_target):\n",
    "    # Konwersja etykiet\n",
    "    label_encoder = LabelEncoder()\n",
    "    train_target_encoded = label_encoder.fit_transform(train_target)\n",
    "    test_target_encoded = label_encoder.transform(test_target)\n",
    "\n",
    "    # Definicja modelu XGBoost\n",
    "    xgb_clf = XGBClassifier()\n",
    "\n",
    "    # Definicja siatki parametrów do przeszukania \n",
    "    param_grid = {\n",
    "        'max_depth': [3, 6, 9],  # Maksymalna głębokość drzewa\n",
    "        'learning_rate': [0.1, 0.3],  # Współczynnik uczenia\n",
    "        'n_estimators': [50, 100],  # Liczba drzew\n",
    "        'subsample': [0.8, 1.0],  # Procent próbek używanych do trenowania każdego drzewa\n",
    "        'colsample_bytree': [0.8, 1.0],  # Procent kolumn używanych do trenowania każdego drzewa\n",
    "    }\n",
    "\n",
    "    # Inicjalizacja GridSearchCV\n",
    "    grid_search = GridSearchCV(estimator=xgb_clf, param_grid=param_grid, cv=5, scoring='accuracy', verbose=2, n_jobs=-1)\n",
    "\n",
    "    # Dopasowanie modelu do danych treningowych\n",
    "    grid_search.fit(train_data, train_target_encoded)\n",
    "\n",
    "    # Najlepsze parametry znalezione podczas strojenia\n",
    "    best_params = grid_search.best_params_\n",
    "    print(\"Najlepsze parametry:\", best_params)\n",
    "\n",
    "    # Uzyskanie najlepszego modelu po strojeniu\n",
    "    best_xgb_clf = grid_search.best_estimator_\n",
    "\n",
    "    # Predykcja na danych testowych\n",
    "    predictions = best_xgb_clf.predict(test_data)\n",
    "\n",
    "    # Dokładność\n",
    "    accuracy = accuracy_score(test_target_encoded, predictions)\n",
    "    print(\"Dokładność:\", accuracy)\n",
    "\n",
    "    # Raport klasyfikacji\n",
    "    class_names = label_encoder.classes_\n",
    "    classification_rep = classification_report(test_target_encoded, predictions, target_names=class_names)\n",
    "    print(\"Raport klasyfikacji:\")\n",
    "    print(classification_rep)\n",
    "\n",
    "    # Confusion matrix\n",
    "    conf_matrix = confusion_matrix(test_target_encoded, predictions)\n",
    "    print(\"Confusion Matrix:\")\n",
    "    print(conf_matrix)\n",
    "\n",
    "     # AUC i Gini dla najlepszego modelu\n",
    "    auc_scores = []\n",
    "    gini_scores = []\n",
    "    for class_name in class_names:\n",
    "        class_index = label_encoder.transform([class_name])[0]\n",
    "        class_probs = best_xgb_clf.predict_proba(test_data)[:, class_index]\n",
    "        class_target = (test_target_encoded == class_index).astype(int)\n",
    "        auc = roc_auc_score(class_target, class_probs)\n",
    "        auc_scores.append(auc)\n",
    "        gini = 2 * auc - 1\n",
    "        gini_scores.append(gini)\n",
    "        print(f\"AUC dla klasy '{class_name}': {auc}\")\n",
    "        print(f\"Gini dla klasy '{class_name}': {gini}\")\n",
    "\n",
    "    # Średni AUC i Gini\n",
    "    mean_auc = np.mean(auc_scores)\n",
    "    mean_gini = np.mean(gini_scores)\n",
    "    print(f\"Średnie AUC: {mean_auc}\")\n",
    "    print(f\"Średni Gini: {mean_gini}\")\n",
    "\n",
    "    return best_xgb_clf, accuracy, classification_rep, conf_matrix, mean_auc, mean_gini\n"
   ]
  },
  {
   "cell_type": "code",
   "execution_count": 66,
   "id": "779606b9",
   "metadata": {},
   "outputs": [
    {
     "name": "stdout",
     "output_type": "stream",
     "text": [
      "Fitting 5 folds for each of 48 candidates, totalling 240 fits\n",
      "Najlepsze parametry: {'colsample_bytree': 0.8, 'learning_rate': 0.3, 'max_depth': 6, 'n_estimators': 50, 'subsample': 0.8}\n",
      "Dokładność: 0.955047619047619\n",
      "Raport klasyfikacji:\n",
      "              precision    recall  f1-score   support\n",
      "\n",
      "      GALAXY       0.95      0.98      0.96     12538\n",
      "         QSO       0.95      0.92      0.94      3973\n",
      "        STAR       0.97      0.92      0.95      4489\n",
      "\n",
      "    accuracy                           0.96     21000\n",
      "   macro avg       0.96      0.94      0.95     21000\n",
      "weighted avg       0.96      0.96      0.95     21000\n",
      "\n",
      "Confusion Matrix:\n",
      "[[12253   177   108]\n",
      " [  302  3670     1]\n",
      " [  356     0  4133]]\n",
      "AUC dla klasy 'GALAXY': 0.9895612021562697\n",
      "Gini dla klasy 'GALAXY': 0.9791224043125395\n",
      "AUC dla klasy 'QSO': 0.9919983172962394\n",
      "Gini dla klasy 'QSO': 0.9839966345924789\n",
      "AUC dla klasy 'STAR': 0.9971775366102962\n",
      "Gini dla klasy 'STAR': 0.9943550732205924\n",
      "Średnie AUC: 0.9929123520209352\n",
      "Średni Gini: 0.9858247040418702\n"
     ]
    },
    {
     "ename": "ValueError",
     "evalue": "too many values to unpack (expected 5)",
     "output_type": "error",
     "traceback": [
      "\u001b[1;31m---------------------------------------------------------------------------\u001b[0m",
      "\u001b[1;31mValueError\u001b[0m                                Traceback (most recent call last)",
      "Input \u001b[1;32mIn [66]\u001b[0m, in \u001b[0;36m<cell line: 1>\u001b[1;34m()\u001b[0m\n\u001b[1;32m----> 1\u001b[0m best_rf_clf_xgboost, classification_rep_xgboost, conf_matrix_xgboost, mean_auc_xgboost, mean_gini_xgboost \u001b[38;5;241m=\u001b[39m hiperparams_xgboost(train_data, train_target, test_data, test_target)\n",
      "\u001b[1;31mValueError\u001b[0m: too many values to unpack (expected 5)"
     ]
    }
   ],
   "source": [
    "best_rf_clf_xgboost, classification_rep_xgboost, conf_matrix_xgboost, mean_auc_xgboost, mean_gini_xgboost = hiperparams_xgboost(train_data, train_target, test_data, test_target)"
   ]
  },
  {
   "cell_type": "code",
   "execution_count": 60,
   "id": "d0d5971a",
   "metadata": {},
   "outputs": [],
   "source": [
    "# gradint boosting"
   ]
  },
  {
   "cell_type": "code",
   "execution_count": 65,
   "id": "e783c43d",
   "metadata": {},
   "outputs": [],
   "source": [
    "from sklearn.ensemble import GradientBoostingClassifier\n",
    "\n",
    "def hiperparams_gradient_boosting(train_data, train_target, test_data, test_target):\n",
    "    # Konwersja etykiet\n",
    "    label_encoder = LabelEncoder()\n",
    "    train_target_encoded = label_encoder.fit_transform(train_target)\n",
    "    test_target_encoded = label_encoder.transform(test_target)\n",
    "\n",
    "    # Definicja modelu Gradient Boosting\n",
    "    gb_clf = GradientBoostingClassifier()\n",
    "\n",
    "    # Definicja siatki parametrów do przeszukania\n",
    "    param_grid = {\n",
    "        'learning_rate': [0.1, 0.3],  # Współczynnik uczenia\n",
    "        'n_estimators': [50, 100],  # Liczba estymatorów\n",
    "        'max_depth': [3, 6],  # Maksymalna głębokość drzewa\n",
    "        'min_samples_split': [2, 5, 10],  # Minimalna liczba próbek wymagana do podziału węzła\n",
    "        'min_samples_leaf': [1, 2],  # Minimalna liczba próbek wymagana do utworzenia liścia\n",
    "        'subsample': [0.8, 1.0],  # Procent próbek używanych do trenowania każdego estymatora\n",
    "        'max_features': ['sqrt', 'log2']  # Maksymalna liczba cech branych pod uwagę przy podziale węzła\n",
    "    }\n",
    "\n",
    "    # Inicjalizacja GridSearchCV\n",
    "    grid_search = GridSearchCV(estimator=gb_clf, param_grid=param_grid, cv=5, scoring='accuracy', verbose=2, n_jobs=-1)\n",
    "\n",
    "    # Dopasowanie modelu do danych treningowych\n",
    "    grid_search.fit(train_data, train_target_encoded)\n",
    "\n",
    "    # Najlepsze parametry znalezione podczas strojenia\n",
    "    best_params = grid_search.best_params_\n",
    "    print(\"Najlepsze parametry:\", best_params)\n",
    "\n",
    "    # Uzyskanie najlepszego modelu po strojeniu\n",
    "    best_gb_clf = grid_search.best_estimator_\n",
    "\n",
    "    # Predykcja na danych testowych\n",
    "    predictions = best_gb_clf.predict(test_data)\n",
    "\n",
    "    # Dokładność\n",
    "    accuracy = accuracy_score(test_target_encoded, predictions)\n",
    "    print(\"Dokładność:\", accuracy)\n",
    "\n",
    "    # Raport klasyfikacji\n",
    "    class_names = label_encoder.classes_\n",
    "    classification_rep = classification_report(test_target_encoded, predictions, target_names=class_names)\n",
    "    print(\"Raport klasyfikacji:\")\n",
    "    print(classification_rep)\n",
    "\n",
    "    # Confusion matrix\n",
    "    conf_matrix = confusion_matrix(test_target_encoded, predictions)\n",
    "    print(\"Confusion Matrix:\")\n",
    "    print(conf_matrix)\n",
    "\n",
    "    # AUC i Gini dla najlepszego modelu\n",
    "    auc_scores = []\n",
    "    gini_scores = []\n",
    "    for class_name in class_names:\n",
    "        class_index = label_encoder.transform([class_name])[0]\n",
    "        class_probs = best_gb_clf.predict_proba(test_data)[:, class_index]\n",
    "        class_target = (test_target_encoded == class_index).astype(int)\n",
    "        auc = roc_auc_score(class_target, class_probs)\n",
    "        auc_scores.append(auc)\n",
    "        gini = 2 * auc - 1\n",
    "        gini_scores.append(gini)\n",
    "        print(f\"AUC dla klasy '{class_name}': {auc}\")\n",
    "        print(f\"Gini dla klasy '{class_name}': {gini}\")\n",
    "\n",
    "    # Średni AUC i Gini\n",
    "    mean_auc = np.mean(auc_scores)\n",
    "    mean_gini = np.mean(gini_scores)\n",
    "    print(f\"Średnie AUC: {mean_auc}\")\n",
    "    print(f\"Średni Gini: {mean_gini}\")\n",
    "\n",
    "    return best_gb_clf, accuracy, classification_rep, conf_matrix, mean_auc, mean_gini\n"
   ]
  },
  {
   "cell_type": "code",
   "execution_count": 66,
   "id": "05a1681d",
   "metadata": {},
   "outputs": [
    {
     "name": "stdout",
     "output_type": "stream",
     "text": [
      "Fitting 5 folds for each of 192 candidates, totalling 960 fits\n",
      "Najlepsze parametry: {'learning_rate': 0.1, 'max_depth': 6, 'max_features': 'log2', 'min_samples_leaf': 2, 'min_samples_split': 2, 'n_estimators': 100, 'subsample': 1.0}\n",
      "Dokładność: 0.9608571428571429\n",
      "Raport klasyfikacji:\n",
      "              precision    recall  f1-score   support\n",
      "\n",
      "      GALAXY       0.96      0.98      0.97     12538\n",
      "         QSO       0.95      0.93      0.94      3973\n",
      "        STAR       0.97      0.95      0.96      4489\n",
      "\n",
      "    accuracy                           0.96     21000\n",
      "   macro avg       0.96      0.95      0.96     21000\n",
      "weighted avg       0.96      0.96      0.96     21000\n",
      "\n",
      "Confusion Matrix:\n",
      "[[12246   183   109]\n",
      " [  289  3683     1]\n",
      " [  238     2  4249]]\n",
      "AUC dla klasy 'GALAXY': 0.9908753777078306\n",
      "Gini dla klasy 'GALAXY': 0.9817507554156613\n",
      "AUC dla klasy 'QSO': 0.9925660184278767\n",
      "Gini dla klasy 'QSO': 0.9851320368557535\n",
      "AUC dla klasy 'STAR': 0.9976197510994615\n",
      "Gini dla klasy 'STAR': 0.9952395021989231\n",
      "Średnie AUC: 0.9936870490783897\n",
      "Średni Gini: 0.9873740981567792\n"
     ]
    }
   ],
   "source": [
    "best_gb_clf_gradient, accuracy_gradient, classification_rep_gradient, conf_matrix_gradient, mean_auc_gradient, mean_gini_gradient = hiperparams_gradient_boosting(train_data, train_target, test_data, test_target)"
   ]
  },
  {
   "cell_type": "code",
   "execution_count": null,
   "id": "68216f40",
   "metadata": {},
   "outputs": [],
   "source": []
  },
  {
   "cell_type": "code",
   "execution_count": 67,
   "id": "a2131615",
   "metadata": {},
   "outputs": [],
   "source": [
    "def hiperparams_logistic_regression(train_data, train_target, test_data, test_target):\n",
    "    # Konwersja etykiet\n",
    "    label_encoder = LabelEncoder()\n",
    "    train_target_encoded = label_encoder.fit_transform(train_target)\n",
    "    test_target_encoded = label_encoder.transform(test_target)\n",
    "\n",
    "    # Definicja modelu regresji logistycznej\n",
    "    lr_clf = LogisticRegression(max_iter=1000)\n",
    "\n",
    "    # Definicja siatki parametrów do przeszukania\n",
    "    param_grid = {\n",
    "        'C': [0.01, 0.1, 1.0, 10.0],  # Parametr regularyzacji\n",
    "        'penalty': ['l1', 'l2'],  # Rodzaj normy regularyzacji\n",
    "        'solver': ['liblinear', 'saga'],  # Algorytm optymalizacji\n",
    "        'class_weight': [None, 'balanced']  # Wagi klas\n",
    "    }\n",
    "\n",
    "    # Inicjalizacja GridSearchCV\n",
    "    grid_search = GridSearchCV(estimator=lr_clf, param_grid=param_grid, cv=5, scoring='accuracy', verbose=2, n_jobs=-1)\n",
    "\n",
    "    # Dopasowanie modelu do danych treningowych\n",
    "    grid_search.fit(train_data, train_target_encoded)\n",
    "\n",
    "    # Najlepsze parametry znalezione podczas strojenia\n",
    "    best_params = grid_search.best_params_\n",
    "    print(\"Najlepsze parametry:\", best_params)\n",
    "\n",
    "    # Uzyskanie najlepszego modelu po strojeniu\n",
    "    best_lr_clf = grid_search.best_estimator_\n",
    "\n",
    "    # Predykcja na danych testowych\n",
    "    predictions = best_lr_clf.predict(test_data)\n",
    "\n",
    "    # Dokładność\n",
    "    accuracy = accuracy_score(test_target_encoded, predictions)\n",
    "    print(\"Dokładność:\", accuracy)\n",
    "\n",
    "    # Raport klasyfikacji\n",
    "    class_names = label_encoder.classes_\n",
    "    classification_rep = classification_report(test_target_encoded, predictions, target_names=class_names)\n",
    "    print(\"Raport klasyfikacji:\")\n",
    "    print(classification_rep)\n",
    "\n",
    "    # Confusion matrix\n",
    "    conf_matrix = confusion_matrix(test_target_encoded, predictions)\n",
    "    print(\"Confusion Matrix:\")\n",
    "    print(conf_matrix)\n",
    "\n",
    "    # AUC i Gini dla najlepszego modelu\n",
    "    auc_scores = []\n",
    "    gini_scores = []\n",
    "    for class_name in class_names:\n",
    "        class_index = label_encoder.transform([class_name])[0]\n",
    "        class_probs = best_lr_clf.predict_proba(test_data)[:, class_index]\n",
    "        class_target = (test_target_encoded == class_index).astype(int)\n",
    "        auc = roc_auc_score(class_target, class_probs)\n",
    "        auc_scores.append(auc)\n",
    "        gini = 2 * auc - 1\n",
    "        gini_scores.append(gini)\n",
    "        print(f\"AUC dla klasy '{class_name}': {auc}\")\n",
    "        print(f\"Gini dla klasy '{class_name}': {gini}\")\n",
    "\n",
    "    # Średni AUC i Gini\n",
    "    mean_auc = np.mean(auc_scores)\n",
    "    mean_gini = np.mean(gini_scores)\n",
    "    print(f\"Średnie AUC: {mean_auc}\")\n",
    "    print(f\"Średni Gini: {mean_gini}\")\n",
    "\n",
    "    return best_lr_clf, accuracy, classification_rep, conf_matrix, mean_auc, mean_gini\n"
   ]
  },
  {
   "cell_type": "code",
   "execution_count": 68,
   "id": "8209550f",
   "metadata": {},
   "outputs": [
    {
     "name": "stdout",
     "output_type": "stream",
     "text": [
      "Fitting 5 folds for each of 32 candidates, totalling 160 fits\n",
      "Najlepsze parametry: {'C': 10.0, 'class_weight': None, 'penalty': 'l1', 'solver': 'saga'}\n",
      "Dokładność: 0.9596666666666667\n",
      "Raport klasyfikacji:\n",
      "              precision    recall  f1-score   support\n",
      "\n",
      "      GALAXY       0.96      0.97      0.97     12538\n",
      "         QSO       0.94      0.88      0.91      3973\n",
      "        STAR       0.97      1.00      0.98      4489\n",
      "\n",
      "    accuracy                           0.96     21000\n",
      "   macro avg       0.96      0.95      0.95     21000\n",
      "weighted avg       0.96      0.96      0.96     21000\n",
      "\n",
      "Confusion Matrix:\n",
      "[[12180   204   154]\n",
      " [  486  3486     1]\n",
      " [    0     2  4487]]\n",
      "AUC dla klasy 'GALAXY': 0.9867062037338893\n",
      "Gini dla klasy 'GALAXY': 0.9734124074677786\n",
      "AUC dla klasy 'QSO': 0.9851610989436818\n",
      "Gini dla klasy 'QSO': 0.9703221978873635\n",
      "AUC dla klasy 'STAR': 0.9973462408442637\n",
      "Gini dla klasy 'STAR': 0.9946924816885274\n",
      "Średnie AUC: 0.9897378478406115\n",
      "Średni Gini: 0.9794756956812232\n"
     ]
    },
    {
     "name": "stderr",
     "output_type": "stream",
     "text": [
      "C:\\Users\\HP\\anaconda3\\lib\\site-packages\\sklearn\\linear_model\\_sag.py:350: ConvergenceWarning: The max_iter was reached which means the coef_ did not converge\n",
      "  warnings.warn(\n"
     ]
    }
   ],
   "source": [
    "best_lr_clf_regression, accuracy_regression, classification_rep_regression, conf_matrix_regression, mean_auc_regression, mean_gini_regression = hiperparams_logistic_regression(train_data, train_target, test_data, test_target)"
   ]
  },
  {
   "cell_type": "code",
   "execution_count": null,
   "id": "4ca65bd6",
   "metadata": {},
   "outputs": [],
   "source": []
  },
  {
   "cell_type": "code",
   "execution_count": 68,
   "id": "2d3419fd",
   "metadata": {},
   "outputs": [
    {
     "name": "stdout",
     "output_type": "stream",
     "text": [
      "Dokładność: 0.9676666666666667\n",
      "Raport klasyfikacji:\n",
      "              precision    recall  f1-score   support\n",
      "\n",
      "      GALAXY       0.97      0.98      0.97     12538\n",
      "         QSO       0.96      0.93      0.94      3973\n",
      "        STAR       0.98      0.98      0.98      4489\n",
      "\n",
      "    accuracy                           0.97     21000\n",
      "   macro avg       0.97      0.96      0.96     21000\n",
      "weighted avg       0.97      0.97      0.97     21000\n",
      "\n",
      "Confusion Matrix:\n",
      "[[12259   168   111]\n",
      " [  294  3678     1]\n",
      " [  105     0  4384]]\n"
     ]
    }
   ],
   "source": [
    "from sklearn.ensemble import VotingClassifier\n",
    "from sklearn.pipeline import make_pipeline\n",
    "import xgboost as xgb\n",
    "\n",
    "def ensemble_model(train_data, train_target, test_data, test_target):\n",
    "    # Definicja modeli\n",
    "    xgb_clf = xgb.XGBClassifier()\n",
    "    rf_clf = RandomForestClassifier()\n",
    "    lr_clf = LogisticRegression()\n",
    "\n",
    "    # Definicja modelu ensemble\n",
    "    ensemble_model = VotingClassifier(estimators=[\n",
    "        ('xgb', xgb_clf),\n",
    "        ('rf', rf_clf),\n",
    "        ('lr', lr_clf)\n",
    "    ], voting='hard')\n",
    "\n",
    "    # Dopasowanie modelu do danych treningowych\n",
    "    ensemble_model.fit(train_data, train_target)\n",
    "\n",
    "    # Predykcja na danych testowych\n",
    "    predictions = ensemble_model.predict(test_data)\n",
    "\n",
    "    # Dokładność\n",
    "    accuracy = accuracy_score(test_target, predictions)\n",
    "    print(\"Dokładność:\", accuracy)\n",
    "\n",
    "    # Raport klasyfikacji\n",
    "    classification_rep = classification_report(test_target, predictions)\n",
    "    print(\"Raport klasyfikacji:\")\n",
    "    print(classification_rep)\n",
    "\n",
    "    # Confusion matrix\n",
    "    conf_matrix = confusion_matrix(test_target, predictions)\n",
    "    print(\"Confusion Matrix:\")\n",
    "    print(conf_matrix)\n",
    "\n",
    "    return ensemble_model, accuracy, classification_rep, conf_matrix\n",
    "\n",
    "# Przykładowe wywołanie\n",
    "ensemble_model, accuracy, classification_rep, conf_matrix = ensemble_model(train_data, train_target, test_data, test_target)\n"
   ]
  },
  {
   "cell_type": "markdown",
   "id": "8d4596f8",
   "metadata": {},
   "source": [
    "ensemble model - połączenie forest, xgb oraz regression"
   ]
  },
  {
   "cell_type": "code",
   "execution_count": 72,
   "id": "9b30c8ca",
   "metadata": {},
   "outputs": [
    {
     "name": "stdout",
     "output_type": "stream",
     "text": [
      "Dokładność: 0.9684761904761905\n",
      "Raport klasyfikacji:\n",
      "              precision    recall  f1-score   support\n",
      "\n",
      "      GALAXY       0.97      0.98      0.97     12538\n",
      "         QSO       0.95      0.93      0.94      3973\n",
      "        STAR       0.97      0.98      0.98      4489\n",
      "\n",
      "    accuracy                           0.97     21000\n",
      "   macro avg       0.97      0.96      0.96     21000\n",
      "weighted avg       0.97      0.97      0.97     21000\n",
      "\n",
      "Confusion Matrix:\n",
      "[[12249   176   113]\n",
      " [  288  3684     1]\n",
      " [   84     0  4405]]\n"
     ]
    }
   ],
   "source": [
    "def ensemble_model(train_data, train_target, test_data, test_target):\n",
    "    # Definicja modeli\n",
    "    xgb_clf = xgb.XGBClassifier()\n",
    "    rf_clf = RandomForestClassifier()\n",
    "    lr_clf = LogisticRegression()\n",
    "\n",
    "    # Definicja modelu ensemble\n",
    "    ensemble_model = VotingClassifier(estimators=[\n",
    "        ('xgb', xgb_clf),\n",
    "        ('rf', rf_clf),\n",
    "        ('lr', lr_clf)\n",
    "    ], voting='hard')\n",
    "\n",
    "    # Dopasowanie modelu do danych treningowych\n",
    "    ensemble_model.fit(train_data, train_target)\n",
    "\n",
    "    # Predykcja na danych testowych\n",
    "    predictions = ensemble_model.predict(test_data)\n",
    "\n",
    "    # Dokładność\n",
    "    accuracy = accuracy_score(test_target, predictions)\n",
    "    print(\"Dokładność:\", accuracy)\n",
    "\n",
    "    # Raport klasyfikacji\n",
    "    classification_rep = classification_report(test_target, predictions)\n",
    "    print(\"Raport klasyfikacji:\")\n",
    "    print(classification_rep)\n",
    "\n",
    "    # Confusion matrix\n",
    "    conf_matrix = confusion_matrix(test_target, predictions)\n",
    "    print(\"Confusion Matrix:\")\n",
    "    print(conf_matrix)\n",
    "\n",
    "    return ensemble_model, accuracy, classification_rep, conf_matrix\n",
    "\n",
    "# Przykładowe wywołanie\n",
    "ensemble_model, accuracy, classification_rep, conf_matrix = ensemble_model(train_data, train_target, test_data, test_target)\n"
   ]
  }
 ],
 "metadata": {
  "kernelspec": {
   "display_name": "Python 3 (ipykernel)",
   "language": "python",
   "name": "python3"
  },
  "language_info": {
   "codemirror_mode": {
    "name": "ipython",
    "version": 3
   },
   "file_extension": ".py",
   "mimetype": "text/x-python",
   "name": "python",
   "nbconvert_exporter": "python",
   "pygments_lexer": "ipython3",
   "version": "3.9.12"
  }
 },
 "nbformat": 4,
 "nbformat_minor": 5
}
